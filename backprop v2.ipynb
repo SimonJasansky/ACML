{
 "cells": [
  {
   "cell_type": "markdown",
   "metadata": {},
   "source": [
    "# ACML Assignment 1"
   ]
  },
  {
   "cell_type": "code",
   "execution_count": 33,
   "metadata": {},
   "outputs": [],
   "source": [
    "import numpy as np"
   ]
  },
  {
   "cell_type": "markdown",
   "metadata": {},
   "source": [
    "### Create the training data "
   ]
  },
  {
   "cell_type": "code",
   "execution_count": 34,
   "metadata": {},
   "outputs": [],
   "source": [
    "inputs = []\n",
    "\n",
    "for i in range(8):\n",
    "    input = np.zeros(((8+1),1)) # +1 is the bias\n",
    "    input[0] = 1 # bias at the beginning of the input\n",
    "    input[i+1] = 1\n",
    "    inputs.append(input)\n",
    "\n",
    "#print(inputs[0:2])\n",
    "#len(inputs)"
   ]
  },
  {
   "cell_type": "markdown",
   "metadata": {},
   "source": [
    "### Initialize Weights"
   ]
  },
  {
   "cell_type": "code",
   "execution_count": 35,
   "metadata": {},
   "outputs": [],
   "source": [
    "# Weights\n",
    "W1 = np.random.normal(0, 0.1, 3*9).reshape(3, 9) # 3x9 matrix\n",
    "W2 = np.random.normal(0, 0.1, 8*4).reshape(8, 4) # 8x4 matrix"
   ]
  },
  {
   "cell_type": "markdown",
   "metadata": {},
   "source": [
    "### Initialize Hyperparameters"
   ]
  },
  {
   "cell_type": "code",
   "execution_count": 38,
   "metadata": {},
   "outputs": [],
   "source": [
    "lr = 0.1\n",
    "batch_size = 5\n",
    "weight_decay = 0\n",
    "epochs = 100"
   ]
  },
  {
   "cell_type": "markdown",
   "metadata": {},
   "source": [
    "### Define functions"
   ]
  },
  {
   "cell_type": "code",
   "execution_count": 39,
   "metadata": {},
   "outputs": [],
   "source": [
    "def sigmoid(x):\n",
    "    return (1/(1 + np.exp(-x)))\n",
    "\n",
    "def softmax(x):\n",
    "    e = np.exp(x)\n",
    "    return(e/e.sum())\n",
    "\n",
    "def argmax(x): \n",
    "    a2_index = np.argmax(x)\n",
    "    a2 = np.zeros(8)\n",
    "    a2[a2_index] = 1\n",
    "    return(a2)\n",
    "\n",
    "# forward propagation function\n",
    "# a0 is the input layer, which must be of shape (9,1) (8+1)\n",
    "# returns the activations of layer 1 and 2\n",
    "def forward_prop(a0):\n",
    "    a1 = sigmoid(np.dot(W1, a0)) # (3x9) . (9x1) = (3x1)\n",
    "    a1 = np.insert(a1, 0, 1) # insert bias to make it (4x1)\n",
    "    a2 = sigmoid(np.dot(W2, a1))\n",
    "    return(a1, a2) # returns (4x1) and (8x1)\n",
    "\n",
    "# back propagation function\n",
    "# inputs are: a0 (=y), a1, a2 (activation of layer 1 and 2)\n",
    "# outputs are:\n",
    "def back_prop(a0, a1, a2):\n",
    "    \n",
    "    # compute the costs (squared error)\n",
    "    cost_MSE = np.sum(np.square(a2 - a0))\n",
    "\n",
    "    # compute the deltas for layer 2 and 1\n",
    "    delta2 = a2 * (np.ones(8) - a2) * (a2 - a0) # deltas in layer 2 (output)\n",
    "    #       (8x1) * ((8x1) - (8x1)) * ((8x1)-(8x1)) = (8x1)\n",
    "\n",
    "    #print(\"a2\", a2)\n",
    "    #print(\"a0\", a0)\n",
    "\n",
    "    delta1 = a1 * (np.ones(4) - a1) * np.dot(W2.T, delta2) # deltas in layer 1 (hidden)\n",
    "    #         (4x1) * ((4x1) - (4x1))  *  ((4x8) . (8x1))   = (4x1)\n",
    "    #                                          (4x1)\n",
    "\n",
    "    # compute the partial derivatives for weigthts 2\n",
    "    #print(\"delta2\", delta2.reshape(8,1))\n",
    "    #print(\"a1\", a1.reshape(1,4))\n",
    "    deriv_W_2 = np.dot(delta2.reshape(8,1), a1.reshape(1,4))\n",
    "    #print(\"derivative of Weight 2 including Bias\", deriv_W_2)\n",
    "\n",
    "\n",
    "    # compute the partial derivatives for weights 1\n",
    "    # insert bias to a0\n",
    "    a0_with_bias = np.insert(a0, 0, 1)\n",
    "    a0_with_bias = a0_with_bias\n",
    "    \n",
    "    # delete bias for delta1\n",
    "    delta1 = np.delete(delta1, 0)\n",
    "    #print(\"delta1\", delta1.reshape(3, 1))\n",
    "    #print(\"a0\", a0_with_bias.reshape(1, 9))\n",
    "    deriv_W_1 = np.dot(delta1.reshape(3, 1), a0_with_bias.reshape(1, 9))\n",
    "    #print(\"derivative of Weight 1 including bias\", deriv_W_1)\n",
    "\n",
    "    #print(deriv_W_1.shape, deriv_W_2.shape)   \n",
    "    return(deriv_W_1, deriv_W_2, cost_MSE)\n"
   ]
  },
  {
   "cell_type": "code",
   "execution_count": 40,
   "metadata": {},
   "outputs": [
    {
     "name": "stdout",
     "output_type": "stream",
     "text": [
      "[[1.]\n",
      " [1.]\n",
      " [0.]\n",
      " [0.]\n",
      " [0.]\n",
      " [0.]\n",
      " [0.]\n",
      " [0.]\n",
      " [0.]]\n",
      "y [1. 0. 0. 0. 0. 0. 0. 0.]\n",
      "activations of layer 1 and 2\n",
      "[1.         0.46744257 0.6055483  0.46915545] [0.42641131 0.41918088 0.46358599 0.54520435 0.51236838 0.47209883\n",
      " 0.48152676 0.50176811]\n",
      "derivatives of the weights W1 and W2\n"
     ]
    },
    {
     "data": {
      "text/plain": [
       "(array([[ 0.0123558 ,  0.0123558 ,  0.        ,  0.        ,  0.        ,\n",
       "          0.        ,  0.        ,  0.        ,  0.        ],\n",
       "        [-0.00522715, -0.00522715, -0.        , -0.        , -0.        ,\n",
       "         -0.        , -0.        , -0.        , -0.        ],\n",
       "        [ 0.00403817,  0.00403817,  0.        ,  0.        ,  0.        ,\n",
       "          0.        ,  0.        ,  0.        ,  0.        ]]),\n",
       " array([[-0.14029102, -0.065578  , -0.08495299, -0.0658183 ],\n",
       "        [ 0.10205724,  0.0477059 ,  0.06180059,  0.04788071],\n",
       "        [ 0.11528179,  0.05388762,  0.06980869,  0.05408508],\n",
       "        [ 0.135187  ,  0.06319216,  0.08186226,  0.06342372],\n",
       "        [ 0.12801371,  0.05983906,  0.07751849,  0.06005833],\n",
       "        [ 0.11765719,  0.05499798,  0.07124711,  0.05519951],\n",
       "        [ 0.12021736,  0.05619471,  0.07279742,  0.05640063],\n",
       "        [ 0.12544046,  0.05863621,  0.07596026,  0.05885108]]))"
      ]
     },
     "execution_count": 40,
     "metadata": {},
     "output_type": "execute_result"
    }
   ],
   "source": [
    "print(inputs[0])\n",
    "\n",
    "# activations of layer 1 and 2\n",
    "ta1, ta2 = forward_prop(inputs[0])\n",
    "\n",
    "y = np.delete(inputs[0], 0)\n",
    "print(\"y\", y)\n",
    "der1, der2, cost= back_prop(y, ta1, ta2)\n",
    "\n",
    "print(\"activations of layer 1 and 2\")\n",
    "print(ta1, ta2)\n",
    "print(\"derivatives of the weights W1 and W2\")\n",
    "der1, der2"
   ]
  },
  {
   "cell_type": "code",
   "execution_count": 41,
   "metadata": {},
   "outputs": [],
   "source": [
    "loss = list()\n",
    "# loop over number of iterations\n",
    "for i in range(epochs):\n",
    "\n",
    "    # loop over batch size\n",
    "    deriv1_outer = np.zeros((3,9))\n",
    "    deriv2_outer = np.zeros((8,4))\n",
    "    for m in range(batch_size): #batch size 8\n",
    "        \n",
    "        # select a random training sample\n",
    "        train_sample = inputs[np.random.randint(0, 8)]\n",
    "        \n",
    "        # perform forward propagation\n",
    "        ta1, ta2 = forward_prop(train_sample)\n",
    "        \n",
    "        # perform backward propagation\n",
    "        y = np.delete(train_sample, 0)\n",
    "        deriv1, deriv2, cost = back_prop(y, ta1, ta2)\n",
    "        \n",
    "        # add the partial derivatives to the batch derivatives\n",
    "        #print(deriv1.shape, deriv1_outer.shape)\n",
    "        deriv1_outer = deriv1_outer + deriv1\n",
    "        deriv2_outer = deriv2_outer + deriv2\n",
    "        loss.append(cost)\n",
    "\n",
    "    W1_new = W1 - (lr * ((1/batch_size) * deriv1_outer + weight_decay * W1))\n",
    "    W2_new = W2 - (lr * ((1/batch_size) * deriv2_outer + weight_decay * W2))\n",
    "    W1_new[:,0] = W1[:,0] - lr * (1/batch_size) * deriv1_outer[:,0]\n",
    "    W2_new[:,0] = W2[:,0] - lr * (1/batch_size) * deriv2_outer[:,0]\n",
    "    W1 = W1_new\n",
    "    W2 = W2_new\n",
    "\n"
   ]
  },
  {
   "cell_type": "code",
   "execution_count": 45,
   "metadata": {},
   "outputs": [
    {
     "name": "stdout",
     "output_type": "stream",
     "text": [
      "[[-0.7013325  -0.21558519 -0.29734088 -0.30433805]\n",
      " [-0.64684753 -0.17946414 -0.35702943 -0.33718509]\n",
      " [-0.64558539 -0.1923645  -0.33813221 -0.18148058]\n",
      " [-0.54872916 -0.1339421  -0.26686836 -0.19481343]\n",
      " [-0.64062617 -0.22235802 -0.34399442 -0.07441611]\n",
      " [-0.62880205 -0.25468303 -0.19189056 -0.37865234]\n",
      " [-0.5077804  -0.17059036 -0.48867957 -0.26026773]\n",
      " [-0.44053178 -0.18902297 -0.37780074 -0.36635505]]\n",
      "[[ 0.01143716 -0.06748023  0.0397129  -0.12825191  0.03199236  0.09599231\n",
      "   0.07918466 -0.02065795 -0.00148554]\n",
      " [ 0.42860244  0.1912877  -0.01024228 -0.10696691  0.05171747  0.01499932\n",
      "   0.13209413  0.10253952  0.09002425]\n",
      " [ 0.06428086 -0.05033201 -0.01479885  0.09098277  0.08185651 -0.00251242\n",
      "   0.20254588  0.01149649  0.06460924]]\n"
     ]
    }
   ],
   "source": [
    "print(W2)\n",
    "print(W1)"
   ]
  },
  {
   "cell_type": "code",
   "execution_count": 43,
   "metadata": {},
   "outputs": [
    {
     "data": {
      "image/png": "[encoded data removed]",
      "text/plain": [
       "<Figure size 432x288 with 1 Axes>"
      ]
     },
     "metadata": {
      "needs_background": "light"
     },
     "output_type": "display_data"
    }
   ],
   "source": [
    "import matplotlib.pyplot as plt\n",
    "\n",
    "plt.plot((list(range(len(loss)))), loss)\n",
    "plt.show()"
   ]
  },
  {
   "cell_type": "code",
   "execution_count": 44,
   "metadata": {},
   "outputs": [
    {
     "name": "stdout",
     "output_type": "stream",
     "text": [
      "[[1.]\n",
      " [0.]\n",
      " [1.]\n",
      " [0.]\n",
      " [0.]\n",
      " [0.]\n",
      " [0.]\n",
      " [0.]\n",
      " [0.]]\n",
      "[0.24101224 0.24472293 0.26093082 0.29355618 0.26889497 0.25556736\n",
      " 0.26437974 0.27827856]\n"
     ]
    }
   ],
   "source": [
    "print(inputs[1])\n",
    "\n",
    "_, output = forward_prop(inputs[1])\n",
    "\n",
    "print(output)"
   ]
  },
  {
   "cell_type": "code",
   "execution_count": null,
   "metadata": {},
   "outputs": [],
   "source": []
  }
 ],
 "metadata": {
  "kernelspec": {
   "display_name": "Python 3.9.12 ('base')",
   "language": "python",
   "name": "python3"
  },
  "language_info": {
   "codemirror_mode": {
    "name": "ipython",
    "version": 3
   },
   "file_extension": ".py",
   "mimetype": "text/x-python",
   "name": "python",
   "nbconvert_exporter": "python",
   "pygments_lexer": "ipython3",
   "version": "3.9.12"
  },
  "orig_nbformat": 4,
  "vscode": {
   "interpreter": {
    "hash": "6446a39cde994240cef0075e7ef74c15a2542a1b56d11796ba0d3da838f0e271"
   }
  }
 },
 "nbformat": 4,
 "nbformat_minor": 2
}
