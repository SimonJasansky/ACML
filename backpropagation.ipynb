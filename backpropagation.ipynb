{
 "cells": [
  {
   "cell_type": "markdown",
   "metadata": {
    "collapsed": false
   },
   "source": [
    "# Assignment 1: Backpropagation"
   ]
  },
  {
   "cell_type": "code",
   "execution_count": 1,
   "metadata": {},
   "outputs": [],
   "source": [
    "import numpy as np"
   ]
  },
  {
   "cell_type": "code",
   "execution_count": 7,
   "metadata": {
    "collapsed": false
   },
   "outputs": [
    {
     "data": {
      "text/plain": [
       "array([[1, 0, 0, ..., 1, 0, 0],\n",
       "       [1, 0, 0, ..., 1, 0, 0],\n",
       "       [1, 0, 0, ..., 0, 0, 0],\n",
       "       ...,\n",
       "       [1, 0, 0, ..., 0, 0, 0],\n",
       "       [1, 0, 0, ..., 0, 0, 1],\n",
       "       [1, 0, 0, ..., 0, 1, 0]])"
      ]
     },
     "execution_count": 7,
     "metadata": {},
     "output_type": "execute_result"
    }
   ],
   "source": [
    "inputs = []\n",
    "\n",
    "for i in range(8):\n",
    "    input = np.array([0] * (8+1)) # +1 is the bias\n",
    "    input[0] = 1 # bias at the beginning of the input\n",
    "    input[i+1] = 1\n",
    "    inputs.append(input)\n",
    "\n",
    "inputs = np.array(inputs*1000)\n",
    "np.random.shuffle(inputs)\n",
    "inputs"
   ]
  },
  {
   "cell_type": "code",
   "execution_count": 33,
   "metadata": {},
   "outputs": [],
   "source": [
    "W1 = np.random.rand(3, 9)\n",
    "W2 = np.random.rand(8, 4)\n",
    "lr = 0.1 # learning rate\n",
    "\n",
    "def sigmoid(x):\n",
    "    return 1/(1 + np.exp(-x))\n",
    "\n",
    "def forward_prop(input):\n",
    "    hidden = sigmoid(np.dot(W1, input))\n",
    "    hidden = np.insert(hidden,0,1) # insert the bias\n",
    "    output = sigmoid(np.dot(W2, hidden))\n",
    "    return(hidden, output)\n",
    "    \n",
    "def back_prop(expected, output, hidden):\n",
    "    one_8 = np.ones((8,1))\n",
    "    one_4 = np.ones((4,1))\n",
    "\n",
    "    delta3 = output * (one_8 - output) * (output - expected) # deltas in layer 3 (output)\n",
    "    #         (8x1) * ((8x1) - (8x1))  *  ((8x1) - (8x1))   = (8x1)\n",
    "\n",
    "    delta2 = hidden * (one_4 - hidden) * np.dot(W2.T, delta3) # deltas in layer 2 (hidden)\n",
    "    #         (4x1) * ((4x1) - (4x1))  *  ((4x8) . (8x1))   = (4x1)\n",
    "    #                                          (4x1)\n",
    "    \n",
    "    triangle2 = np.array([0]*4) # 4:= #neurons in layer 2 (hidden)\n",
    "    for j in len(hidden):\n",
    "        for i in len(output):\n",
    "            triangle2[j] += hidden[j] * output[i]\n",
    "\n",
    "    big_D = np.zeros((8,4))\n",
    "\n",
    "    #   Yo. How the fuck does the triangle work? I mean let's say there are i x j triangles,\n",
    "    #   bc I guess that's what ij means. Every triangle is 0 at first and we have this:\n",
    "    #   triangle = triangle + a_j(l) * d_i(l+1). But if there are i x j triangles then it\n",
    "    #   happens only once, so it doesn't make any sense.\n",
    "    #   My guess was what I've done up here, so we'd have a triangle for every neuron.\n",
    "    #\n",
    "    #   But then where we compute big_D (Harry Potter reference here hehe) it would have\n",
    "    #   a point if there would be different triangle for every weight... so...\n",
    "    #   we compute triangles for weights or neurons?\n",
    "    #\n",
    "    #   But then why is it different atthe first neurons? So when j = 0, then we don't\n",
    "    #   compute the learning rate * weight.\n",
    "    #\n",
    "    #   Or maybe the combination of both? Compute triangles for neurons, then use one\n",
    "    #   neuron's triangle forevery weight that comes out of it? \n",
    "    #\n",
    "    #   I HAVE NO IDEA\n",
    "\n",
    "    # new_weight = old_weight - big_D\n",
    "\n"
   ]
  },
  {
   "cell_type": "code",
   "execution_count": 35,
   "metadata": {},
   "outputs": [
    {
     "name": "stdout",
     "output_type": "stream",
     "text": [
      "[1.         0.71187463 0.63395336 0.76220463]\n"
     ]
    }
   ],
   "source": [
    "a2, a3 = forward_prop(inputs[0].reshape(-1,1))\n",
    "print(a2)\n",
    "\n",
    "#delta3 = back_prop(inputs[0].reshape(-1,1), a3)\n",
    "#delta3"
   ]
  }
 ],
 "metadata": {
  "kernelspec": {
   "display_name": "Python 3.9.12 64-bit",
   "language": "python",
   "name": "python3"
  },
  "language_info": {
   "codemirror_mode": {
    "name": "ipython",
    "version": 3
   },
   "file_extension": ".py",
   "mimetype": "text/x-python",
   "name": "python",
   "nbconvert_exporter": "python",
   "pygments_lexer": "ipython3",
   "version": "3.9.12"
  },
  "vscode": {
   "interpreter": {
    "hash": "397704579725e15f5c7cb49fe5f0341eb7531c82d19f2c29d197e8b64ab5776b"
   }
  }
 },
 "nbformat": 4,
 "nbformat_minor": 0
}
