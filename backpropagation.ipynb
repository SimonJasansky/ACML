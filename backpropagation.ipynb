{
 "cells": [
  {
   "cell_type": "markdown",
   "metadata": {
    "collapsed": false
   },
   "source": [
    "# Assignment 1: Backpropagation"
   ]
  },
  {
   "cell_type": "code",
   "execution_count": 408,
   "metadata": {},
   "outputs": [],
   "source": [
    "import numpy as np"
   ]
  },
  {
   "cell_type": "code",
   "execution_count": 423,
   "metadata": {
    "collapsed": false
   },
   "outputs": [
    {
     "name": "stdout",
     "output_type": "stream",
     "text": [
      "[[[1.]\n",
      "  [0.]\n",
      "  [0.]\n",
      "  [0.]\n",
      "  [0.]\n",
      "  [1.]\n",
      "  [0.]\n",
      "  [0.]\n",
      "  [0.]]\n",
      "\n",
      " [[1.]\n",
      "  [0.]\n",
      "  [0.]\n",
      "  [0.]\n",
      "  [1.]\n",
      "  [0.]\n",
      "  [0.]\n",
      "  [0.]\n",
      "  [0.]]]\n"
     ]
    },
    {
     "data": {
      "text/plain": [
       "8000"
      ]
     },
     "execution_count": 423,
     "metadata": {},
     "output_type": "execute_result"
    }
   ],
   "source": [
    "inputs = []\n",
    "input_size = 1000\n",
    "\n",
    "for i in range(8):\n",
    "    input = np.zeros(((8+1),1)) # +1 is the bias\n",
    "    input[0] = 1 # bias at the beginning of the input\n",
    "    input[i+1] = 1\n",
    "    inputs.append(input)\n",
    "\n",
    "inputs = np.array(inputs*input_size)\n",
    "np.random.shuffle(inputs)\n",
    "print(inputs[0:2])\n",
    "len(inputs)\n",
    "\n",
    "# inputs is a 9x800 matrix, where each column in a training instance\n",
    "# each unique training instance is included 100 times in the training data"
   ]
  },
  {
   "cell_type": "code",
   "execution_count": 437,
   "metadata": {},
   "outputs": [],
   "source": [
    "# Let's discuss wether we want to use global variables, or wanna pass them to functions.\n",
    "# Especially with the layers. Both works for me but now I changed things and it's messed up :D\n",
    "\n",
    "# initialize the weights\n",
    "# TO do Adjust this to be close to 0, e.g. Uniform distribution between 0 and 0.02!\n",
    "W1 = np.random.normal(0.1, 0.1, 3*9).reshape(3, 9) # 3x9 matrix\n",
    "W2 = np.random.normal(0.1, 0.1, 8*4).reshape(8, 4) # 8x4 matrix\n",
    "\n",
    "# initialize the big Deltas (called triangles) \n",
    "# these have the same shape as the weights matrices, as they represent the gradients for each weight \n",
    "triangles1 = np.zeros((3, 9)) # 3x9 matrix\n",
    "triangles2 = np.zeros((8, 4)) # 8x4 matrix\n",
    "\n",
    "lr = 0.1 # learning rate\n",
    "training_set_length = 8\n",
    "weight_decay = 0.000001\n",
    "\n",
    "def sigmoid(x):\n",
    "    return (1/(1 + np.exp(-x)))\n",
    "\n",
    "def forward_prop(input):\n",
    "    hidden = sigmoid(np.dot(W1, input))\n",
    "    hidden = np.insert(hidden,0,1) # insert the bias\n",
    "    output = sigmoid(np.dot(W2, hidden))\n",
    "    return(hidden, output)\n",
    "    \n",
    "def back_prop(hidden, output, expected):\n",
    "    # initialize helper vectors consisting of ones\n",
    "    one_8 = np.ones(8) # its shape is (8,) and not (1,8), so it works (had some problem with (8,1))\n",
    "    one_4 = np.ones(4)\n",
    "\n",
    "    # compute delta 3 and 2 (\"error term\" of the nodes of output and hidden layer, \n",
    "    # that measures how much that node was “responsible” for any errors in our output)\n",
    "    delta3 = output * (one_8 - output) * (output - expected) # deltas in layer 3 (output)\n",
    "    #         (8x1) * ((8x1) - (8x1))  *  ((8x1) - (8x1))   = (8x1)\n",
    "\n",
    "    delta2 = hidden * (one_4 - hidden) * np.dot(W2.T, delta3) # deltas in layer 2 (hidden)\n",
    "    #         (4x1) * ((4x1) - (4x1))  *  ((4x8) . (8x1))   = (4x1)\n",
    "    #                                          (4x1)\n",
    "    \n",
    "    # Would be nicer with another function for it, which has a layer list [input, hidden, output],\n",
    "    # but I think it's clearer this way (we can change it later).\n",
    "    # compute the big deltas (called triangles here)\n",
    "    for j in range(len(hidden)):\n",
    "        for i in range(len(output)):\n",
    "            triangles2[i][j] += hidden[j] * delta3[i]\n",
    "\n",
    "    for j in range(len(input)):\n",
    "        for i in range(len(hidden)-1): # we don't count the bias\n",
    "            triangles1[i][j] += input[j] * delta2[i] \n",
    "\n",
    "def weight_tune(input, hidden, output):\n",
    "    big_D1 = np.zeros((3,9))\n",
    "    big_D2 = np.zeros((8,4))\n",
    "    global W1, W2, triangles1, triangles2\n",
    "\n",
    "    for j in range(len(hidden)):\n",
    "        for i in range(len(output)):\n",
    "            if j == 0:\n",
    "                big_D2[i][j] = triangles2[i][j]/training_set_length\n",
    "            else:\n",
    "                big_D2[i][j] = (triangles2[i][j]/training_set_length + weight_decay * W2[i][j])\n",
    "\n",
    "\n",
    "    for j in range(len(input)):\n",
    "        for i in range(len(hidden)-1): # we don't count the bias\n",
    "            if j == 0:\n",
    "                big_D1[i][j] = triangles1[i][j]/training_set_length\n",
    "            else:\n",
    "                big_D1[i][j] = (triangles1[i][j]/training_set_length + weight_decay * W1[i][j])\n",
    "\n",
    "\n",
    "    W1 = W1 - lr * big_D1\n",
    "    W2 = W2 - lr * big_D2\n",
    "\n",
    "    triangles1 = np.zeros((3,9))\n",
    "    triangles2 = np.zeros((8,4)) \n",
    "    \n",
    "\n",
    "\n",
    "    #   Okay, I figured it out. We call forward_prop and back_prop everytime we have a new input,\n",
    "    #   BUT we don't tune the weights that often. This way it makes sense to add up the triangle[i][j].\n",
    "    #   We tune the weights after every training set, which contains 'm' input+output.\n",
    "    #   So I guess the training set does not contain ALL the 800 inputs we generated.\n",
    "    #\n",
    "    #   And we compute big_D: we devide by 'm' so it'd be the average of it and then we subtract\n",
    "    #   the big_D (which stands for difference I guess, or it's delta again) from the weight.\n",
    "    #\n",
    "\n",
    "    #   ------------------- MY PREVIOUS SUFFERING WITH THE TRIANGLES --------------------\n",
    "\n",
    "    #   Yo. How the fuck does the triangle work? I mean let's say there are i x j triangles,\n",
    "    #   bc I guess that's what ij means. Every triangle is 0 at first and we have this:\n",
    "    #   triangle = triangle + a_j(l) * d_i(l+1). But if there are i x j triangles then it\n",
    "    #   happens only once, so it doesn't make any sense.\n",
    "    #   My guess was what I've done up here, so we'd have a triangle for every neuron.\n",
    "    #\n",
    "    #   But then where we compute big_D (Harry Potter reference here hehe) it would have\n",
    "    #   a point if there would be different triangle for every weight... so...\n",
    "    #   we compute triangles for weights or neurons?\n",
    "    #\n",
    "    #   But then why is it different at the first neurons? So when j = 0, then we don't\n",
    "    #   compute the learning rate * weight.\n",
    "    #\n",
    "    #   Or maybe the combination of both? Compute triangles for neurons, then use one\n",
    "    #   neuron's triangle for every weight that comes out of it? \n",
    "    #\n",
    "    #   I HAVE NO IDEA\n",
    "\n",
    "    # new_weight = old_weight - big_D\n",
    "\n"
   ]
  },
  {
   "cell_type": "code",
   "execution_count": 438,
   "metadata": {},
   "outputs": [],
   "source": [
    "i = 1\n",
    "SSE = []\n",
    "for input in inputs:\n",
    "    hidden, output = forward_prop(input)\n",
    "    expected = np.delete(input,0)\n",
    "    SSE.append(np.sum((output - expected) ** 2) / 8)\n",
    "\n",
    "    back_prop(hidden, output, expected) # we need to delete the bias\n",
    "    if i % training_set_length == 0:\n",
    "        weight_tune(input, hidden, output)\n",
    "    i+=1\n"
   ]
  },
  {
   "cell_type": "code",
   "execution_count": 439,
   "metadata": {},
   "outputs": [
    {
     "data": {
      "image/png": "[encoded data removed]",
      "text/plain": [
       "<Figure size 640x480 with 1 Axes>"
      ]
     },
     "metadata": {},
     "output_type": "display_data"
    }
   ],
   "source": [
    "import matplotlib.pyplot as plt\n",
    "x = []\n",
    "for i in range(input_size*8):\n",
    "    x.append(i+1)\n",
    "\n",
    "plt.plot(x, SSE)\n",
    "plt.grid()\n",
    "plt.show()"
   ]
  },
  {
   "cell_type": "code",
   "execution_count": 440,
   "metadata": {},
   "outputs": [
    {
     "name": "stdout",
     "output_type": "stream",
     "text": [
      "[[1.]\n",
      " [0.]\n",
      " [0.]\n",
      " [0.]\n",
      " [0.]\n",
      " [0.]\n",
      " [0.]\n",
      " [1.]\n",
      " [0.]]\n",
      "[0.13345781 0.13481895 0.12909337 0.13196576 0.13020848 0.1310634\n",
      " 0.13084551 0.12994308]\n"
     ]
    },
    {
     "data": {
      "text/plain": [
       "0.11000225852923111"
      ]
     },
     "execution_count": 440,
     "metadata": {},
     "output_type": "execute_result"
    }
   ],
   "source": [
    "print(inputs[200])\n",
    "\n",
    "_, output = forward_prop(inputs[200])\n",
    "\n",
    "print(output)\n",
    "#print(output - expected)\n",
    "np.sum((output - expected) ** 2) / 8"
   ]
  },
  {
   "cell_type": "code",
   "execution_count": null,
   "metadata": {},
   "outputs": [],
   "source": []
  }
 ],
 "metadata": {
  "kernelspec": {
   "display_name": "Python 3.9.12 64-bit",
   "language": "python",
   "name": "python3"
  },
  "language_info": {
   "codemirror_mode": {
    "name": "ipython",
    "version": 3
   },
   "file_extension": ".py",
   "mimetype": "text/x-python",
   "name": "python",
   "nbconvert_exporter": "python",
   "pygments_lexer": "ipython3",
   "version": "3.9.12"
  },
  "vscode": {
   "interpreter": {
    "hash": "397704579725e15f5c7cb49fe5f0341eb7531c82d19f2c29d197e8b64ab5776b"
   }
  }
 },
 "nbformat": 4,
 "nbformat_minor": 0
}
