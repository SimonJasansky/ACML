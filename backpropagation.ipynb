{
 "cells": [
  {
   "cell_type": "markdown",
   "metadata": {
    "collapsed": false
   },
   "source": [
    "# Assignment 1: Backpropagation"
   ]
  },
  {
   "cell_type": "code",
   "execution_count": 4,
   "metadata": {},
   "outputs": [],
   "source": [
    "import numpy as np"
   ]
  },
  {
   "cell_type": "code",
   "execution_count": 13,
   "metadata": {
    "collapsed": false
   },
   "outputs": [
    {
     "data": {
      "text/plain": [
       "numpy.ndarray"
      ]
     },
     "execution_count": 13,
     "metadata": {},
     "output_type": "execute_result"
    }
   ],
   "source": [
    "inputs = []\n",
    "\n",
    "for i in range(8):\n",
    "    input = np.array([0] * 8)\n",
    "    input[i] = 1\n",
    "    inputs.append(input)\n",
    "\n",
    "inputs = np.array(inputs*100)\n",
    "type(inputs)\n"
   ]
  },
  {
   "cell_type": "code",
   "execution_count": 18,
   "metadata": {},
   "outputs": [],
   "source": [
    "W1 = np.random.rand(3, 8)\n",
    "W2 = np.random.rand(8, 3)\n",
    "\n",
    "def sigmoid(x):\n",
    "    return 1/(1 + np.exp(-x))\n",
    "\n",
    "\n",
    "def forward_prop(input):\n",
    "    hidden = sigmoid(np.dot(W1, np.transpose(input)))\n",
    "    output = sigmoid(np.dot(W2, hidden))\n",
    "    return(output)\n",
    "    \n",
    "def back_prop(expected, output):\n",
    "    one = [1]*8\n",
    "    delta3 = np.dot((output-expected),np.dot(output,(one - output)))\n",
    "    delta2 = # bias, even for input layer!, also learning rate\n",
    "\n"
   ]
  },
  {
   "cell_type": "code",
   "execution_count": 20,
   "metadata": {},
   "outputs": [
    {
     "data": {
      "text/plain": [
       "array([0.38396991, 0.22341126, 0.51143505, 0.96101329, 0.54840588,\n",
       "       0.90498332, 0.62394772, 0.56808652])"
      ]
     },
     "execution_count": 20,
     "metadata": {},
     "output_type": "execute_result"
    }
   ],
   "source": [
    "W1[0]"
   ]
  },
  {
   "cell_type": "code",
   "execution_count": 19,
   "metadata": {},
   "outputs": [
    {
     "data": {
      "text/plain": [
       "array([[0.74373949],\n",
       "       [0.75042263],\n",
       "       [0.83856373],\n",
       "       [0.7360148 ],\n",
       "       [0.80079115],\n",
       "       [0.66301587],\n",
       "       [0.6683118 ],\n",
       "       [0.63480567]])"
      ]
     },
     "execution_count": 19,
     "metadata": {},
     "output_type": "execute_result"
    }
   ],
   "source": [
    "inputs[0].reshape(-1,1)\n",
    "forward_prop(inputs[0].reshape(1,-1))"
   ]
  }
 ],
 "metadata": {
  "kernelspec": {
   "display_name": "Python 3.9.12 64-bit",
   "language": "python",
   "name": "python3"
  },
  "language_info": {
   "codemirror_mode": {
    "name": "ipython",
    "version": 3
   },
   "file_extension": ".py",
   "mimetype": "text/x-python",
   "name": "python",
   "nbconvert_exporter": "python",
   "pygments_lexer": "ipython3",
   "version": "3.9.12"
  },
  "vscode": {
   "interpreter": {
    "hash": "397704579725e15f5c7cb49fe5f0341eb7531c82d19f2c29d197e8b64ab5776b"
   }
  }
 },
 "nbformat": 4,
 "nbformat_minor": 0
}
