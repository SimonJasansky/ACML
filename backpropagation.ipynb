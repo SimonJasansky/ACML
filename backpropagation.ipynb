{
 "cells": [
  {
   "cell_type": "markdown",
   "metadata": {
    "collapsed": false
   },
   "source": [
    "# Assignment 1: Backpropagation"
   ]
  },
  {
   "cell_type": "code",
   "execution_count": 1,
   "metadata": {},
   "outputs": [],
   "source": [
    "import numpy as np"
   ]
  },
  {
   "cell_type": "code",
   "execution_count": 42,
   "metadata": {
    "collapsed": false
   },
   "outputs": [],
   "source": [
    "inputs = []\n",
    "\n",
    "for i in range(8):\n",
    "    input = np.array([0] * 8)\n",
    "    input[i] = 1\n",
    "    inputs.append(input)\n",
    "\n",
    "inputs = np.array(inputs*100)\n"
   ]
  },
  {
   "cell_type": "code",
   "execution_count": 54,
   "metadata": {},
   "outputs": [],
   "source": [
    "W1 = np.random.rand(3, 8)\n",
    "W2 = np.random.rand(8, 3)\n",
    "\n",
    "def sigmoid(x):\n",
    "    return 1/(1 + np.exp(-x))\n",
    "\n",
    "\n",
    "def forward_prop(input):\n",
    "    hidden = sigmoid(np.dot(W1, input))\n",
    "    output = sigmoid(np.dot(W2, hidden))\n",
    "    return(output)\n",
    "    \n",
    "def back_prop(expected, output):\n",
    "    one = np.array([1]*8).reshape(-1,1)\n",
    "    delta3 = output * (one - output) * (output - expected)\n",
    "    return(delta3)\n",
    "\n",
    "    # delta3 = np.dot((output-expected),np.dot(output,(one - output)))\n",
    "    # delta2 = # bias, even for input layer!, also learning rate\n",
    "\n"
   ]
  },
  {
   "cell_type": "code",
   "execution_count": 55,
   "metadata": {},
   "outputs": [
    {
     "name": "stdout",
     "output_type": "stream",
     "text": [
      "[[0.68692319]\n",
      " [0.71849993]\n",
      " [0.72569141]\n",
      " [0.74214909]\n",
      " [0.67127446]\n",
      " [0.64025593]\n",
      " [0.79040394]\n",
      " [0.6555982 ]]\n"
     ]
    },
    {
     "data": {
      "text/plain": [
       "array([[-0.06733021],\n",
       "       [ 0.1453222 ],\n",
       "       [ 0.14445859],\n",
       "       [ 0.14202048],\n",
       "       [ 0.14812682],\n",
       "       [ 0.14746904],\n",
       "       [ 0.1309427 ],\n",
       "       [ 0.14802699]])"
      ]
     },
     "execution_count": 55,
     "metadata": {},
     "output_type": "execute_result"
    }
   ],
   "source": [
    "a3 = forward_prop(inputs[0].reshape(-1,1))\n",
    "print(a3)\n",
    "\n",
    "delta3 = back_prop(inputs[0].reshape(-1,1), a3)\n",
    "delta3"
   ]
  },
  {
   "cell_type": "code",
   "execution_count": null,
   "metadata": {},
   "outputs": [],
   "source": []
  }
 ],
 "metadata": {
  "kernelspec": {
   "display_name": "Python 3.9.12 ('base')",
   "language": "python",
   "name": "python3"
  },
  "language_info": {
   "codemirror_mode": {
    "name": "ipython",
    "version": 3
   },
   "file_extension": ".py",
   "mimetype": "text/x-python",
   "name": "python",
   "nbconvert_exporter": "python",
   "pygments_lexer": "ipython3",
   "version": "3.9.12"
  },
  "vscode": {
   "interpreter": {
    "hash": "6446a39cde994240cef0075e7ef74c15a2542a1b56d11796ba0d3da838f0e271"
   }
  }
 },
 "nbformat": 4,
 "nbformat_minor": 0
}
