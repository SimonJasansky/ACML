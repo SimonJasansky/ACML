{
 "cells": [
  {
   "cell_type": "markdown",
   "metadata": {
    "collapsed": false
   },
   "source": [
    "# Assignment 1: Backpropagation"
   ]
  },
  {
   "cell_type": "code",
   "execution_count": 127,
   "metadata": {},
   "outputs": [],
   "source": [
    "import numpy as np"
   ]
  },
  {
   "cell_type": "code",
   "execution_count": 146,
   "metadata": {
    "collapsed": false
   },
   "outputs": [
    {
     "data": {
      "text/plain": [
       "array([[[1.],\n",
       "        [0.],\n",
       "        [0.],\n",
       "        ...,\n",
       "        [0.],\n",
       "        [0.],\n",
       "        [0.]],\n",
       "\n",
       "       [[1.],\n",
       "        [0.],\n",
       "        [0.],\n",
       "        ...,\n",
       "        [0.],\n",
       "        [1.],\n",
       "        [0.]],\n",
       "\n",
       "       [[1.],\n",
       "        [0.],\n",
       "        [0.],\n",
       "        ...,\n",
       "        [0.],\n",
       "        [0.],\n",
       "        [0.]],\n",
       "\n",
       "       ...,\n",
       "\n",
       "       [[1.],\n",
       "        [0.],\n",
       "        [0.],\n",
       "        ...,\n",
       "        [0.],\n",
       "        [0.],\n",
       "        [0.]],\n",
       "\n",
       "       [[1.],\n",
       "        [0.],\n",
       "        [0.],\n",
       "        ...,\n",
       "        [0.],\n",
       "        [1.],\n",
       "        [0.]],\n",
       "\n",
       "       [[1.],\n",
       "        [1.],\n",
       "        [0.],\n",
       "        ...,\n",
       "        [0.],\n",
       "        [0.],\n",
       "        [0.]]])"
      ]
     },
     "execution_count": 146,
     "metadata": {},
     "output_type": "execute_result"
    }
   ],
   "source": [
    "inputs = []\n",
    "\n",
    "for i in range(8):\n",
    "    input = np.zeros(((8+1),1)) # +1 is the bias\n",
    "    input[0] = 1 # bias at the beginning of the input\n",
    "    input[i+1] = 1\n",
    "    inputs.append(input)\n",
    "\n",
    "inputs = np.array(inputs*100)\n",
    "np.random.shuffle(inputs)\n",
    "inputs"
   ]
  },
  {
   "cell_type": "code",
   "execution_count": 154,
   "metadata": {},
   "outputs": [],
   "source": [
    "# Let's discuss wether we want to use global variables, or wanna pass them to functions.\n",
    "# Especially with the layers. Both works for me but now I changed things and it's messed up :D\n",
    "\n",
    "W1 = np.random.rand(3, 9)\n",
    "W2 = np.random.rand(8, 4)\n",
    "triangles1 = np.zeros((3,9))\n",
    "triangles2 = np.zeros((8,4))\n",
    "lr = 0.01 # learning rate\n",
    "training_set_length = 8\n",
    "\n",
    "def sigmoid(x):\n",
    "    return (1/(1 + np.exp(-x)))\n",
    "\n",
    "def forward_prop(input):\n",
    "    hidden = sigmoid(np.dot(W1, input))\n",
    "    hidden = np.insert(hidden,0,1) # insert the bias\n",
    "    output = sigmoid(np.dot(W2, hidden))\n",
    "    return(hidden, output)\n",
    "    \n",
    "def back_prop(hidden, output, expected):\n",
    "    one_8 = np.ones(8) # its shape is (8,) and not (1,8), so it works (had some problem with (8,1))\n",
    "    one_4 = np.ones(4)\n",
    "\n",
    "\n",
    "\n",
    "    delta3 = output * (one_8 - output) * (output - expected) # deltas in layer 3 (output)\n",
    "    #         (8x1) * ((8x1) - (8x1))  *  ((8x1) - (8x1))   = (8x1)\n",
    "\n",
    "    delta2 = hidden * (one_4 - hidden) * np.dot(W2.T, delta3) # deltas in layer 2 (hidden)\n",
    "    #         (4x1) * ((4x1) - (4x1))  *  ((4x8) . (8x1))   = (4x1)\n",
    "    #                                          (4x1)\n",
    "    \n",
    "    # Would be nicer with another function for it, which has a layer list [input, hidden, output],\n",
    "    # but I think it's clearer this way (we can change it later).\n",
    "    for j in range(len(hidden)):\n",
    "        for i in range(len(output)):\n",
    "            triangles2[i][j] += hidden[j] * delta3[i] \n",
    "\n",
    "    for j in range(len(input)):\n",
    "        for i in range(len(hidden)-1): # we don't count the bias\n",
    "            triangles1[i][j] += input[j] * delta2[i] \n",
    "\n",
    "def weight_tune(input, hidden, output):\n",
    "    big_D1 = np.zeros((3,9))\n",
    "    big_D2 = np.zeros((8,4))\n",
    "    global W1, W2, triangles1, triangles2\n",
    "\n",
    "    for j in range(len(hidden)):\n",
    "        for i in range(len(output)):\n",
    "            big_D2[i][j] = (triangles2[i][j] + lr * W2[i][j])/training_set_length\n",
    "\n",
    "    for j in range(len(input)):\n",
    "        for i in range(len(hidden)-1): # we don't count the bias\n",
    "            big_D1[i][j] = (triangles1[i][j])/training_set_length\n",
    "\n",
    "    W1 = W1 - big_D1\n",
    "    W2 = W2 - big_D2\n",
    "\n",
    "    triangles1 = np.zeros((3,9))\n",
    "    triangles2 = np.zeros((8,4)) \n",
    "    \n",
    "\n",
    "\n",
    "    #   Okay, I figured it out. We call forward_prop and back_prop everytime we have a new input,\n",
    "    #   BUT we don't tune the weights that often. This way it makes sense to add up the triangle[i][j].\n",
    "    #   We tune the weights after every training set, which contains 'm' input+output.\n",
    "    #   So I guess the training set is not contain ALL the 8000 inputs we generated.\n",
    "    #\n",
    "    #   And we compute big_D: we devide by 'm' so it'd be the average of it and then we subtract\n",
    "    #   the big_D (which stands for difference I guess, or it's delta again) from the weight.\n",
    "    #\n",
    "    #   Am I right with it? My only problem is with the j=0 thing at big_D. I don't get it.\n",
    "\n",
    "\n",
    "    #   ------------------- MY PREVIOUS SUFFERING WITH THE TRIANGLES --------------------\n",
    "\n",
    "    #   Yo. How the fuck does the triangle work? I mean let's say there are i x j triangles,\n",
    "    #   bc I guess that's what ij means. Every triangle is 0 at first and we have this:\n",
    "    #   triangle = triangle + a_j(l) * d_i(l+1). But if there are i x j triangles then it\n",
    "    #   happens only once, so it doesn't make any sense.\n",
    "    #   My guess was what I've done up here, so we'd have a triangle for every neuron.\n",
    "    #\n",
    "    #   But then where we compute big_D (Harry Potter reference here hehe) it would have\n",
    "    #   a point if there would be different triangle for every weight... so...\n",
    "    #   we compute triangles for weights or neurons?\n",
    "    #\n",
    "    #   But then why is it different at the first neurons? So when j = 0, then we don't\n",
    "    #   compute the learning rate * weight.\n",
    "    #\n",
    "    #   Or maybe the combination of both? Compute triangles for neurons, then use one\n",
    "    #   neuron's triangle for every weight that comes out of it? \n",
    "    #\n",
    "    #   I HAVE NO IDEA\n",
    "\n",
    "    # new_weight = old_weight - big_D\n",
    "\n"
   ]
  },
  {
   "cell_type": "code",
   "execution_count": 155,
   "metadata": {},
   "outputs": [],
   "source": [
    "i = 1\n",
    "SSE = []\n",
    "for input in inputs:\n",
    "    hidden, output = forward_prop(input)\n",
    "    expected = np.delete(input,0)\n",
    "    SSE.append(np.sum((output - expected) ** 2))\n",
    "\n",
    "    back_prop(hidden, output, expected) # we need to delete the bias\n",
    "    if i % 8 == 0:\n",
    "        weight_tune(input, hidden, output)\n",
    "    i+=1"
   ]
  },
  {
   "cell_type": "code",
   "execution_count": 152,
   "metadata": {},
   "outputs": [
    {
     "data": {
      "text/plain": [
       "800"
      ]
     },
     "execution_count": 152,
     "metadata": {},
     "output_type": "execute_result"
    }
   ],
   "source": [
    "len(SSE)"
   ]
  },
  {
   "cell_type": "code",
   "execution_count": 156,
   "metadata": {},
   "outputs": [
    {
     "data": {
      "text/plain": [
       "[<matplotlib.lines.Line2D at 0x10ff2e400>]"
      ]
     },
     "execution_count": 156,
     "metadata": {},
     "output_type": "execute_result"
    },
    {
     "data": {
      "image/png": "[encoded data removed]",
      "text/plain": [
       "<Figure size 640x480 with 1 Axes>"
      ]
     },
     "metadata": {},
     "output_type": "display_data"
    }
   ],
   "source": [
    "import matplotlib.pyplot as plt\n",
    "x = []\n",
    "for i in range(800):\n",
    "    x.append(i)\n",
    "\n",
    "plt.plot(x, SSE)"
   ]
  },
  {
   "cell_type": "code",
   "execution_count": 158,
   "metadata": {},
   "outputs": [
    {
     "name": "stdout",
     "output_type": "stream",
     "text": [
      "[[1.]\n",
      " [0.]\n",
      " [0.]\n",
      " [0.]\n",
      " [0.]\n",
      " [1.]\n",
      " [0.]\n",
      " [0.]\n",
      " [0.]]\n",
      "[0.15057065 0.12871192 0.11811736 0.12836767 0.12119466 0.12977616\n",
      " 0.14796391 0.10417885]\n"
     ]
    }
   ],
   "source": [
    "print(inputs[0])\n",
    "\n",
    "_, output = forward_prop(inputs[0])\n",
    "\n",
    "print(output)"
   ]
  }
 ],
 "metadata": {
  "kernelspec": {
   "display_name": "Python 3.9.12 64-bit",
   "language": "python",
   "name": "python3"
  },
  "language_info": {
   "codemirror_mode": {
    "name": "ipython",
    "version": 3
   },
   "file_extension": ".py",
   "mimetype": "text/x-python",
   "name": "python",
   "nbconvert_exporter": "python",
   "pygments_lexer": "ipython3",
   "version": "3.9.12"
  },
  "vscode": {
   "interpreter": {
    "hash": "397704579725e15f5c7cb49fe5f0341eb7531c82d19f2c29d197e8b64ab5776b"
   }
  }
 },
 "nbformat": 4,
 "nbformat_minor": 0
}
