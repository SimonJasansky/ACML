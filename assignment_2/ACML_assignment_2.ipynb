{
 "cells": [
  {
   "cell_type": "markdown",
   "source": [
    "# Assignment 2\n",
    "\n",
    "Akos Engelmann, Simon Jasansky"
   ],
   "metadata": {
    "collapsed": false
   }
  },
  {
   "cell_type": "code",
   "execution_count": 1,
   "outputs": [],
   "source": [
    "import numpy as np\n",
    "import tensorflow as tf\n",
    "import matplotlib.pyplot as plt"
   ],
   "metadata": {
    "collapsed": false
   }
  },
  {
   "cell_type": "code",
   "execution_count": 2,
   "outputs": [],
   "source": [
    "# we don't need to load the y_train and y_test, as we will not use the labels of the image\n",
    "(x_train, _), (x_test, _) = tf.keras.datasets.cifar10.load_data()"
   ],
   "metadata": {
    "collapsed": false
   }
  },
  {
   "cell_type": "code",
   "execution_count": 3,
   "outputs": [
    {
     "name": "stdout",
     "output_type": "stream",
     "text": [
      "(60000, 32, 32, 3)\n"
     ]
    }
   ],
   "source": [
    "# split the test data into test and validation\n",
    "data = np.concatenate((x_train, x_test))\n",
    "print(data.shape)\n",
    "# the shape is as expected, 60000 samples with 32x32 pictures, with 3 layers (RGB)"
   ],
   "metadata": {
    "collapsed": false
   }
  },
  {
   "cell_type": "code",
   "execution_count": 4,
   "outputs": [
    {
     "name": "stdout",
     "output_type": "stream",
     "text": [
      "(32, 32, 3)\n",
      "(32, 3)\n",
      "(3,)\n",
      "[59 62 63]\n"
     ]
    },
    {
     "data": {
      "text/plain": "<Figure size 432x288 with 1 Axes>",
      "image/png": "[encoded data removed]"
     },
     "metadata": {
      "needs_background": "light"
     },
     "output_type": "display_data"
    }
   ],
   "source": [
    "# first picture\n",
    "print(data[0].shape)\n",
    "\n",
    "# first row (or column, idk) of pixels of the picture\n",
    "print(data[0][0].shape)\n",
    "\n",
    "# first pixel of the first row/column of the picture (RGB values)\n",
    "print(data[0][0][0].shape)\n",
    "print(data[0][0][0])\n",
    "\n",
    "# print the first picture\n",
    "plt.imshow(data[0])\n",
    "plt.show()"
   ],
   "metadata": {
    "collapsed": false
   }
  },
  {
   "cell_type": "code",
   "execution_count": 5,
   "outputs": [],
   "source": [
    "# do normalization over each image (use L2 norm)\n",
    "data = data.astype(\"float32\")\n",
    "data = tf.keras.utils.normalize(data, axis = 1, order = 2)"
   ],
   "metadata": {
    "collapsed": false
   }
  },
  {
   "cell_type": "code",
   "execution_count": 6,
   "outputs": [
    {
     "data": {
      "text/plain": "<Figure size 432x288 with 1 Axes>",
      "image/png": "[encoded data removed]"
     },
     "metadata": {
      "needs_background": "light"
     },
     "output_type": "display_data"
    }
   ],
   "source": [
    "# print the first picture again (normalized)\n",
    "plt.imshow(data[0])\n",
    "plt.show()"
   ],
   "metadata": {
    "collapsed": false
   }
  },
  {
   "cell_type": "code",
   "execution_count": 7,
   "outputs": [
    {
     "name": "stdout",
     "output_type": "stream",
     "text": [
      "(48000, 32, 32, 3)\n",
      "(6000, 32, 32, 3)\n",
      "(6000, 32, 32, 3)\n"
     ]
    }
   ],
   "source": [
    "# reshuffle before splitting data\n",
    "np.random.shuffle(data)\n",
    "\n",
    "# split into train, test and validation sets\n",
    "train = data[:48000]\n",
    "test = data[48000:54000]\n",
    "valid = data[54000:]\n",
    "\n",
    "print(train.shape)\n",
    "print(test.shape)\n",
    "print(valid.shape)"
   ],
   "metadata": {
    "collapsed": false
   }
  },
  {
   "cell_type": "code",
   "execution_count": 8,
   "outputs": [],
   "source": [
    "# implement CAE\n",
    "input_layer = tf.keras.layers.Input(shape=(32, 32, 3), name=\"INPUT\")\n",
    "# shape now: 32x32x3"
   ],
   "metadata": {
    "collapsed": false
   }
  },
  {
   "cell_type": "code",
   "execution_count": null,
   "outputs": [],
   "source": [
    "\n",
    "x = tf.keras.layers.Conv2D(filters = 8, kernel_size = (3, 3), strides = 1, activation='relu', padding='same')(input_layer)\n",
    "# shape now: 32x32x8"
   ],
   "metadata": {
    "collapsed": false,
    "pycharm": {
     "is_executing": true
    }
   }
  },
  {
   "cell_type": "code",
   "execution_count": 1,
   "outputs": [
    {
     "ename": "NameError",
     "evalue": "name 'tf' is not defined",
     "output_type": "error",
     "traceback": [
      "\u001B[1;31m---------------------------------------------------------------------------\u001B[0m",
      "\u001B[1;31mNameError\u001B[0m                                 Traceback (most recent call last)",
      "Input \u001B[1;32mIn [1]\u001B[0m, in \u001B[0;36m<cell line: 1>\u001B[1;34m()\u001B[0m\n\u001B[1;32m----> 1\u001B[0m x \u001B[38;5;241m=\u001B[39m \u001B[43mtf\u001B[49m\u001B[38;5;241m.\u001B[39mkeras\u001B[38;5;241m.\u001B[39mlayers\u001B[38;5;241m.\u001B[39mMaxPooling2D(pool_size \u001B[38;5;241m=\u001B[39m (\u001B[38;5;241m2\u001B[39m, \u001B[38;5;241m2\u001B[39m), strides \u001B[38;5;241m=\u001B[39m \u001B[38;5;241m1\u001B[39m)(x)\n\u001B[0;32m      2\u001B[0m \u001B[38;5;66;03m#shape now: 16x16x8\u001B[39;00m\n\u001B[0;32m      4\u001B[0m x \u001B[38;5;241m=\u001B[39m tf\u001B[38;5;241m.\u001B[39mkeras\u001B[38;5;241m.\u001B[39mlayers\u001B[38;5;241m.\u001B[39mConv2D(filters \u001B[38;5;241m=\u001B[39m \u001B[38;5;241m12\u001B[39m, kernel_size \u001B[38;5;241m=\u001B[39m (\u001B[38;5;241m3\u001B[39m, \u001B[38;5;241m3\u001B[39m), strides \u001B[38;5;241m=\u001B[39m \u001B[38;5;241m1\u001B[39m, activation\u001B[38;5;241m=\u001B[39m\u001B[38;5;124m'\u001B[39m\u001B[38;5;124mrelu\u001B[39m\u001B[38;5;124m'\u001B[39m, padding\u001B[38;5;241m=\u001B[39m\u001B[38;5;124m'\u001B[39m\u001B[38;5;124msame\u001B[39m\u001B[38;5;124m'\u001B[39m)(x)\n",
      "\u001B[1;31mNameError\u001B[0m: name 'tf' is not defined"
     ]
    }
   ],
   "source": [
    "\n",
    "x = tf.keras.layers.MaxPooling2D(pool_size = (2, 2), strides = 1)(x)\n",
    "#shape now: 16x16x8\n",
    "\n",
    "x = tf.keras.layers.Conv2D(filters = 12, kernel_size = (3, 3), strides = 1, activation='relu', padding='same')(x)\n",
    "#shape now: 16x16x8\n",
    "\n",
    "\n",
    "latent_space_rep = tf.keras.layers.MaxPooling2D((2, 2), strides = 1, padding = \"same\", name = \"LATENT_SPACE\")(x)\n",
    "#shape now: 8x8x16\n",
    "\n",
    "x = tf.keras.layers.UpSampling2D((2, 2))(latent_space_rep)\n",
    "# shape now: 16x16x16\n",
    "\n",
    "x = tf.keras.layers.Conv2DTranspose(12, (3, 3), activation='relu', padding='same')(x)\n",
    "# shape now: 16x16x12\n",
    "\n",
    "x = tf.keras.layers.UpSampling2D((2, 2))(x)\n",
    "# shape now: 32x32x12\n",
    "\n",
    "output_layer = tf.keras.layers.Conv2D(3, (3, 3), padding='same', name=\"OUTPUT\")(x)\n",
    "# shape now: 32x32x3"
   ],
   "metadata": {
    "collapsed": false
   }
  },
  {
   "cell_type": "code",
   "execution_count": 2,
   "outputs": [
    {
     "ename": "NameError",
     "evalue": "name 'tf' is not defined",
     "output_type": "error",
     "traceback": [
      "\u001B[1;31m---------------------------------------------------------------------------\u001B[0m",
      "\u001B[1;31mNameError\u001B[0m                                 Traceback (most recent call last)",
      "Input \u001B[1;32mIn [2]\u001B[0m, in \u001B[0;36m<cell line: 1>\u001B[1;34m()\u001B[0m\n\u001B[1;32m----> 1\u001B[0m pic_CAE \u001B[38;5;241m=\u001B[39m \u001B[43mtf\u001B[49m\u001B[38;5;241m.\u001B[39mkeras\u001B[38;5;241m.\u001B[39mmodels\u001B[38;5;241m.\u001B[39mModel(input_layer[\u001B[38;5;241m0\u001B[39m], output_layer)\n\u001B[0;32m      2\u001B[0m pic_CAE\u001B[38;5;241m.\u001B[39mcompile(optimizer\u001B[38;5;241m=\u001B[39m\u001B[38;5;124m'\u001B[39m\u001B[38;5;124madam\u001B[39m\u001B[38;5;124m'\u001B[39m, loss\u001B[38;5;241m=\u001B[39m\u001B[38;5;124m'\u001B[39m\u001B[38;5;124mmse\u001B[39m\u001B[38;5;124m'\u001B[39m)\n\u001B[0;32m      3\u001B[0m pic_CAE\u001B[38;5;241m.\u001B[39msummary()\n",
      "\u001B[1;31mNameError\u001B[0m: name 'tf' is not defined"
     ]
    }
   ],
   "source": [
    "pic_CAE = tf.keras.models.Model(input_layer[0], output_layer)\n",
    "pic_CAE.compile(optimizer='adam', loss='mse')\n",
    "pic_CAE.summary()"
   ],
   "metadata": {
    "collapsed": false
   }
  },
  {
   "cell_type": "code",
   "execution_count": 3,
   "outputs": [
    {
     "ename": "NameError",
     "evalue": "name 'pic_CAE' is not defined",
     "output_type": "error",
     "traceback": [
      "\u001B[1;31m---------------------------------------------------------------------------\u001B[0m",
      "\u001B[1;31mNameError\u001B[0m                                 Traceback (most recent call last)",
      "Input \u001B[1;32mIn [3]\u001B[0m, in \u001B[0;36m<cell line: 2>\u001B[1;34m()\u001B[0m\n\u001B[0;32m      1\u001B[0m \u001B[38;5;66;03m# train the model\u001B[39;00m\n\u001B[1;32m----> 2\u001B[0m \u001B[43mpic_CAE\u001B[49m\u001B[38;5;241m.\u001B[39mfit(train, train,\n\u001B[0;32m      3\u001B[0m            epochs\u001B[38;5;241m=\u001B[39m\u001B[38;5;241m10\u001B[39m,\n\u001B[0;32m      4\u001B[0m            batch_size\u001B[38;5;241m=\u001B[39m\u001B[38;5;241m128\u001B[39m,\n\u001B[0;32m      5\u001B[0m            shuffle\u001B[38;5;241m=\u001B[39m\u001B[38;5;28;01mTrue\u001B[39;00m,\n\u001B[0;32m      6\u001B[0m            validation_data\u001B[38;5;241m=\u001B[39m(test, test))\n",
      "\u001B[1;31mNameError\u001B[0m: name 'pic_CAE' is not defined"
     ]
    }
   ],
   "source": [
    "# train the model\n",
    "pic_CAE.fit(train, train,\n",
    "           epochs=10,\n",
    "           batch_size=128,\n",
    "           shuffle=True,\n",
    "           validation_data=(test, test))"
   ],
   "metadata": {
    "collapsed": false
   }
  },
  {
   "cell_type": "code",
   "execution_count": null,
   "outputs": [],
   "source": [],
   "metadata": {
    "collapsed": false
   }
  }
 ],
 "metadata": {
  "kernelspec": {
   "display_name": "Python 3",
   "language": "python",
   "name": "python3"
  },
  "language_info": {
   "codemirror_mode": {
    "name": "ipython",
    "version": 2
   },
   "file_extension": ".py",
   "mimetype": "text/x-python",
   "name": "python",
   "nbconvert_exporter": "python",
   "pygments_lexer": "ipython2",
   "version": "2.7.6"
  }
 },
 "nbformat": 4,
 "nbformat_minor": 0
}
