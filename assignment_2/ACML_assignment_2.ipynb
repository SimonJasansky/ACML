{
 "cells": [
  {
   "cell_type": "markdown",
   "metadata": {
    "collapsed": false
   },
   "source": [
    "# Assignment 2\n",
    "\n",
    "Akos Engelmann, Simon Jasansky"
   ]
  },
  {
   "cell_type": "code",
   "execution_count": 1,
   "metadata": {
    "collapsed": false
   },
   "outputs": [],
   "source": [
    "import numpy as np\n",
    "import tensorflow as tf\n",
    "import matplotlib.pyplot as plt"
   ]
  },
  {
   "cell_type": "code",
   "execution_count": 2,
   "metadata": {
    "collapsed": false
   },
   "outputs": [],
   "source": [
    "# we don't need to load the y_train and y_test, as we will not use the labels of the image\n",
    "(x_train, _), (x_test, _) = tf.keras.datasets.cifar10.load_data()"
   ]
  },
  {
   "cell_type": "code",
   "execution_count": 3,
   "metadata": {
    "collapsed": false
   },
   "outputs": [
    {
     "name": "stdout",
     "output_type": "stream",
     "text": [
      "(60000, 32, 32, 3)\n"
     ]
    }
   ],
   "source": [
    "# split the test data into test and validation\n",
    "data = np.concatenate((x_train, x_test))\n",
    "print(data.shape)\n",
    "# the shape is as expected, 60000 samples with 32x32 pictures, with 3 layers (RGB)"
   ]
  },
  {
   "cell_type": "code",
   "execution_count": 4,
   "metadata": {
    "collapsed": false
   },
   "outputs": [
    {
     "name": "stdout",
     "output_type": "stream",
     "text": [
      "(32, 32, 3)\n",
      "(32, 3)\n",
      "(3,)\n",
      "[59 62 63]\n"
     ]
    },
    {
     "data": {
      "image/png": "[encoded data removed]",
      "text/plain": [
       "<Figure size 640x480 with 1 Axes>"
      ]
     },
     "metadata": {},
     "output_type": "display_data"
    }
   ],
   "source": [
    "# first picture\n",
    "print(data[0].shape)\n",
    "\n",
    "# first row (or column, idk) of pixels of the picture\n",
    "print(data[0][0].shape)\n",
    "\n",
    "# first pixel of the first row/column of the picture (RGB values)\n",
    "print(data[0][0][0].shape)\n",
    "print(data[0][0][0])\n",
    "\n",
    "# print the first picture\n",
    "plt.imshow(data[0])\n",
    "plt.show()"
   ]
  },
  {
   "cell_type": "code",
   "execution_count": 5,
   "metadata": {
    "collapsed": false
   },
   "outputs": [],
   "source": [
    "# do normalization over each image (use L2 norm)\n",
    "data = data.astype(\"float32\")\n",
    "data = tf.keras.utils.normalize(data, axis = 1, order = 2)"
   ]
  },
  {
   "cell_type": "code",
   "execution_count": 6,
   "metadata": {
    "collapsed": false
   },
   "outputs": [
    {
     "data": {
      "image/png": "[encoded data removed]",
      "text/plain": [
       "<Figure size 640x480 with 1 Axes>"
      ]
     },
     "metadata": {},
     "output_type": "display_data"
    }
   ],
   "source": [
    "# print the first picture again (normalized)\n",
    "plt.imshow(data[0])\n",
    "plt.show()"
   ]
  },
  {
   "cell_type": "code",
   "execution_count": 7,
   "metadata": {
    "collapsed": false
   },
   "outputs": [
    {
     "name": "stdout",
     "output_type": "stream",
     "text": [
      "(48000, 32, 32, 3)\n",
      "(6000, 32, 32, 3)\n",
      "(6000, 32, 32, 3)\n"
     ]
    }
   ],
   "source": [
    "# reshuffle before splitting data\n",
    "np.random.shuffle(data)\n",
    "\n",
    "# split into train, test and validation sets\n",
    "train = data[:48000]\n",
    "test = data[48000:54000]\n",
    "valid = data[54000:]\n",
    "\n",
    "print(train.shape)\n",
    "print(test.shape)\n",
    "print(valid.shape)"
   ]
  },
  {
   "cell_type": "code",
   "execution_count": 8,
   "metadata": {
    "collapsed": false
   },
   "outputs": [
    {
     "name": "stdout",
     "output_type": "stream",
     "text": [
      "Metal device set to: Apple M1\n",
      "\n",
      "systemMemory: 16.00 GB\n",
      "maxCacheSize: 5.33 GB\n",
      "\n"
     ]
    },
    {
     "name": "stderr",
     "output_type": "stream",
     "text": [
      "2022-11-14 14:58:02.882923: I tensorflow/core/common_runtime/pluggable_device/pluggable_device_factory.cc:306] Could not identify NUMA node of platform GPU ID 0, defaulting to 0. Your kernel may not have been built with NUMA support.\n",
      "2022-11-14 14:58:02.883645: I tensorflow/core/common_runtime/pluggable_device/pluggable_device_factory.cc:272] Created TensorFlow device (/job:localhost/replica:0/task:0/device:GPU:0 with 0 MB memory) -> physical PluggableDevice (device: 0, name: METAL, pci bus id: <undefined>)\n"
     ]
    }
   ],
   "source": [
    "# implement CAE\n",
    "input_layer = tf.keras.layers.Input(shape=(32, 32, 3), name=\"INPUT\")\n",
    "# shape now: 32x32x3\n",
    "\n",
    "x = tf.keras.layers.Conv2D(filters = 8, kernel_size = (3, 3), strides = 1, activation='relu', padding='same')(input_layer)\n",
    "# shape now: 32x32x8\n",
    "\n",
    "x = tf.keras.layers.MaxPooling2D(pool_size=(2, 2))(x)\n",
    "#shape now: 16x16x8 - since we use 1x1 strides, it's gonna subtract only 1 each dimensions\n",
    "# 1 2 3 4       2 3 4\n",
    "# 1 2 3 4 ---»  2 3 4\n",
    "# 1 2 3 4 ---»  2 3 4\n",
    "# 1 2 3 4\n",
    "# therefore it should be 31x31x8. BUT the plan says it subtracts 2 each dimension... but why?\n",
    "#\n",
    "# it would be 16x16x8 if the strides would be 2x2\n",
    "# 2 4\n",
    "# 2 4\n",
    "#\n",
    "# One more thing: The plan says that 'always padding same', but it keeps the size the same at maxpooling, so maybe just for conv2d?\n",
    "#\n",
    "# But then UpSampling wouldn't work, bc it makes 2x2 pixels from one.. so the 'always stride 1' also works just for the conv2d? wth Kurt\n",
    "\n",
    "\n",
    "x = tf.keras.layers.Conv2D(filters = 12, kernel_size = (3, 3), strides = 1, activation='relu', padding='same')(x)\n",
    "#shape now: \n",
    "\n",
    "x = tf.keras.layers.MaxPooling2D(pool_size=(2, 2))(x)\n",
    "#shape now: \n",
    "\n",
    "# Latent space is a Conv2D layer, after the MaxPooling and before the UpSampling\n",
    "latent_space_rep = tf.keras.layers.Conv2D(filters = 16, kernel_size = (3, 3), strides = 1, activation='relu', padding='same', name = \"LATENT_SPACE\")(x)\n",
    "\n",
    "x = tf.keras.layers.UpSampling2D((2, 2))(latent_space_rep)\n",
    "# shape now: \n",
    "\n",
    "x = tf.keras.layers.Conv2DTranspose(12, (3, 3), activation='relu', padding='same')(x)\n",
    "# shape now: \n",
    "\n",
    "x = tf.keras.layers.UpSampling2D((2, 2))(x)\n",
    "# shape now: \n",
    "\n",
    "output_layer = tf.keras.layers.Conv2D(3, (3, 3), padding='same', name=\"OUTPUT\")(x)\n",
    "# shape now: 32x32x3"
   ]
  },
  {
   "cell_type": "code",
   "execution_count": 9,
   "metadata": {
    "collapsed": false
   },
   "outputs": [
    {
     "name": "stdout",
     "output_type": "stream",
     "text": [
      "Model: \"model\"\n",
      "_________________________________________________________________\n",
      " Layer (type)                Output Shape              Param #   \n",
      "=================================================================\n",
      " INPUT (InputLayer)          [(None, 32, 32, 3)]       0         \n",
      "                                                                 \n",
      " conv2d (Conv2D)             (None, 32, 32, 8)         224       \n",
      "                                                                 \n",
      " max_pooling2d (MaxPooling2D  (None, 16, 16, 8)        0         \n",
      " )                                                               \n",
      "                                                                 \n",
      " conv2d_1 (Conv2D)           (None, 16, 16, 12)        876       \n",
      "                                                                 \n",
      " max_pooling2d_1 (MaxPooling  (None, 8, 8, 12)         0         \n",
      " 2D)                                                             \n",
      "                                                                 \n",
      " LATENT_SPACE (Conv2D)       (None, 8, 8, 16)          1744      \n",
      "                                                                 \n",
      " up_sampling2d (UpSampling2D  (None, 16, 16, 16)       0         \n",
      " )                                                               \n",
      "                                                                 \n",
      " conv2d_transpose (Conv2DTra  (None, 16, 16, 12)       1740      \n",
      " nspose)                                                         \n",
      "                                                                 \n",
      " up_sampling2d_1 (UpSampling  (None, 32, 32, 12)       0         \n",
      " 2D)                                                             \n",
      "                                                                 \n",
      " OUTPUT (Conv2D)             (None, 32, 32, 3)         327       \n",
      "                                                                 \n",
      "=================================================================\n",
      "Total params: 4,911\n",
      "Trainable params: 4,911\n",
      "Non-trainable params: 0\n",
      "_________________________________________________________________\n"
     ]
    }
   ],
   "source": [
    "pic_CAE = tf.keras.models.Model(input_layer, output_layer)\n",
    "pic_CAE.compile(optimizer='adam', loss='mse')\n",
    "pic_CAE.summary()"
   ]
  },
  {
   "cell_type": "code",
   "execution_count": 10,
   "metadata": {
    "collapsed": false
   },
   "outputs": [
    {
     "name": "stdout",
     "output_type": "stream",
     "text": [
      "Epoch 1/10\n"
     ]
    },
    {
     "name": "stderr",
     "output_type": "stream",
     "text": [
      "2022-11-14 14:58:38.248238: W tensorflow/core/platform/profile_utils/cpu_utils.cc:128] Failed to get CPU frequency: 0 Hz\n",
      "2022-11-14 14:58:38.599036: I tensorflow/core/grappler/optimizers/custom_graph_optimizer_registry.cc:114] Plugin optimizer for device_type GPU is enabled.\n"
     ]
    },
    {
     "name": "stdout",
     "output_type": "stream",
     "text": [
      "748/750 [============================>.] - ETA: 0s - loss: 0.0020"
     ]
    },
    {
     "name": "stderr",
     "output_type": "stream",
     "text": [
      "2022-11-14 14:58:49.861980: I tensorflow/core/grappler/optimizers/custom_graph_optimizer_registry.cc:114] Plugin optimizer for device_type GPU is enabled.\n"
     ]
    },
    {
     "name": "stdout",
     "output_type": "stream",
     "text": [
      "750/750 [==============================] - 12s 16ms/step - loss: 0.0020 - val_loss: 9.8600e-04\n",
      "Epoch 2/10\n",
      "750/750 [==============================] - 11s 15ms/step - loss: 8.9449e-04 - val_loss: 8.5369e-04\n",
      "Epoch 3/10\n",
      "750/750 [==============================] - 11s 15ms/step - loss: 8.0949e-04 - val_loss: 7.8874e-04\n",
      "Epoch 4/10\n",
      "750/750 [==============================] - 11s 15ms/step - loss: 7.5668e-04 - val_loss: 7.4282e-04\n",
      "Epoch 5/10\n",
      "750/750 [==============================] - 11s 15ms/step - loss: 7.1812e-04 - val_loss: 7.1242e-04\n",
      "Epoch 6/10\n",
      "750/750 [==============================] - 12s 15ms/step - loss: 6.8896e-04 - val_loss: 6.8786e-04\n",
      "Epoch 7/10\n",
      "750/750 [==============================] - 11s 15ms/step - loss: 6.6161e-04 - val_loss: 6.6153e-04\n",
      "Epoch 8/10\n",
      "750/750 [==============================] - 12s 16ms/step - loss: 6.3838e-04 - val_loss: 6.5113e-04\n",
      "Epoch 9/10\n",
      "750/750 [==============================] - 12s 15ms/step - loss: 6.2400e-04 - val_loss: 6.2454e-04\n",
      "Epoch 10/10\n",
      "750/750 [==============================] - 12s 16ms/step - loss: 6.1160e-04 - val_loss: 6.1305e-04\n"
     ]
    },
    {
     "data": {
      "text/plain": [
       "<keras.callbacks.History at 0x29ca4ee20>"
      ]
     },
     "execution_count": 10,
     "metadata": {},
     "output_type": "execute_result"
    }
   ],
   "source": [
    "# train the model\n",
    "pic_CAE.fit(x = train,\n",
    "           y = train,\n",
    "           epochs=10,\n",
    "           batch_size=64,\n",
    "           shuffle=True,\n",
    "           validation_data=(test, test))"
   ]
  },
  {
   "cell_type": "code",
   "execution_count": 11,
   "metadata": {
    "collapsed": false
   },
   "outputs": [],
   "source": [
    "pic_CAE.save(\"pic_cae.h5\")"
   ]
  },
  {
   "cell_type": "code",
   "execution_count": 12,
   "metadata": {
    "collapsed": false
   },
   "outputs": [],
   "source": [
    "# make model to get intermediate representation in latent space\n",
    "get_encoded_pic = tf.keras.models.Model(inputs=pic_CAE.input, outputs=pic_CAE.get_layer(\"LATENT_SPACE\").output)"
   ]
  },
  {
   "cell_type": "code",
   "execution_count": 13,
   "metadata": {
    "collapsed": false
   },
   "outputs": [
    {
     "name": "stdout",
     "output_type": "stream",
     "text": [
      " 93/188 [=============>................] - ETA: 0s"
     ]
    },
    {
     "name": "stderr",
     "output_type": "stream",
     "text": [
      "2022-11-14 15:00:40.798888: I tensorflow/core/grappler/optimizers/custom_graph_optimizer_registry.cc:114] Plugin optimizer for device_type GPU is enabled.\n"
     ]
    },
    {
     "name": "stdout",
     "output_type": "stream",
     "text": [
      "188/188 [==============================] - 0s 2ms/step\n"
     ]
    },
    {
     "data": {
      "text/plain": [
       "(6000, 1024)"
      ]
     },
     "execution_count": 13,
     "metadata": {},
     "output_type": "execute_result"
    }
   ],
   "source": [
    "# get the intermediate pictures\n",
    "encoded_pic = get_encoded_pic.predict(test)\n",
    "encoded_pic = encoded_pic.reshape((len(test), 8*8*16))\n",
    "encoded_pic.shape"
   ]
  },
  {
   "cell_type": "code",
   "execution_count": 14,
   "metadata": {},
   "outputs": [
    {
     "data": {
      "image/png": "[encoded data removed]",
      "text/plain": [
       "<Figure size 640x480 with 1 Axes>"
      ]
     },
     "metadata": {},
     "output_type": "display_data"
    }
   ],
   "source": [
    "plt.imshow(test[0])\n",
    "plt.show()\n"
   ]
  },
  {
   "cell_type": "code",
   "execution_count": 15,
   "metadata": {
    "collapsed": false
   },
   "outputs": [
    {
     "name": "stdout",
     "output_type": "stream",
     "text": [
      " 22/188 [==>...........................] - ETA: 0s"
     ]
    },
    {
     "name": "stderr",
     "output_type": "stream",
     "text": [
      "2022-11-14 15:01:07.945614: I tensorflow/core/grappler/optimizers/custom_graph_optimizer_registry.cc:114] Plugin optimizer for device_type GPU is enabled.\n"
     ]
    },
    {
     "name": "stdout",
     "output_type": "stream",
     "text": [
      "188/188 [==============================] - 1s 5ms/step\n"
     ]
    },
    {
     "data": {
      "image/png": "[encoded data removed]",
      "text/plain": [
       "<Figure size 640x480 with 1 Axes>"
      ]
     },
     "metadata": {},
     "output_type": "display_data"
    }
   ],
   "source": [
    "# get the reconstructed pics and visualize them\n",
    "reconstructed_pics = pic_CAE.predict(test)\n",
    "\n",
    "plt.imshow(reconstructed_pics[0])\n",
    "plt.show()"
   ]
  },
  {
   "cell_type": "code",
   "execution_count": null,
   "metadata": {
    "collapsed": false
   },
   "outputs": [],
   "source": []
  }
 ],
 "metadata": {
  "kernelspec": {
   "display_name": "Python 3.9.5",
   "language": "python",
   "name": "python3"
  },
  "language_info": {
   "codemirror_mode": {
    "name": "ipython",
    "version": 3
   },
   "file_extension": ".py",
   "mimetype": "text/x-python",
   "name": "python",
   "nbconvert_exporter": "python",
   "pygments_lexer": "ipython3",
   "version": "3.9.5"
  },
  "vscode": {
   "interpreter": {
    "hash": "88b59c00d7109124e87b9247603bf10f75f3af4efbce4bcd069f27f595134b3e"
   }
  }
 },
 "nbformat": 4,
 "nbformat_minor": 0
}
