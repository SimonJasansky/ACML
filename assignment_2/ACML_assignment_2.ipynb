{
 "cells": [
  {
   "cell_type": "markdown",
   "source": [
    "# Assignment 2\n",
    "\n",
    "Akos Engelmann, Simon Jasansky"
   ],
   "metadata": {
    "collapsed": false
   }
  },
  {
   "cell_type": "code",
   "execution_count": 34,
   "outputs": [],
   "source": [
    "import numpy as np\n",
    "import tensorflow as tf\n",
    "from tensorflow import keras\n",
    "import matplotlib.pyplot as plt"
   ],
   "metadata": {
    "collapsed": false
   }
  },
  {
   "cell_type": "code",
   "execution_count": 18,
   "outputs": [],
   "source": [
    "# we don't need to load the y_train and y_test, as we will not use the labels of the image\n",
    "(x_train, _), (x_test, _) = keras.datasets.cifar10.load_data()"
   ],
   "metadata": {
    "collapsed": false
   }
  },
  {
   "cell_type": "code",
   "execution_count": null,
   "outputs": [],
   "source": [
    "# split the test data into test and validation\n",
    "data = np.concatenate((x_train, x_test))\n",
    "print(data.shape)\n",
    "# the shape is as expected, 60000 samples with 32x32 pictures, with 3 layers (RGB)"
   ],
   "metadata": {
    "collapsed": false
   }
  },
  {
   "cell_type": "code",
   "execution_count": 45,
   "outputs": [
    {
     "name": "stdout",
     "output_type": "stream",
     "text": [
      "(32, 32, 3)\n",
      "(32, 3)\n",
      "(3,)\n",
      "[59 62 63]\n"
     ]
    },
    {
     "data": {
      "text/plain": "<Figure size 432x288 with 1 Axes>",
      "image/png": "[encoded data removed]"
     },
     "metadata": {
      "needs_background": "light"
     },
     "output_type": "display_data"
    }
   ],
   "source": [
    "# first picture\n",
    "print(data[0].shape)\n",
    "\n",
    "# first row (or column, idk) of pixels of the picture\n",
    "print(data[0][0].shape)\n",
    "\n",
    "# first pixel of the first row/column of the picture (RGB values)\n",
    "print(data[0][0][0].shape)\n",
    "print(data[0][0][0])\n",
    "\n",
    "# print the first picture\n",
    "plt.imshow(data[0])\n",
    "plt.show()"
   ],
   "metadata": {
    "collapsed": false
   }
  },
  {
   "cell_type": "code",
   "execution_count": 78,
   "outputs": [
    {
     "data": {
      "text/plain": "array([[[[0.07182773, 0.09722503, 0.15002467],\n         [0.05555073, 0.08510671, 0.16805908],\n         [0.06416572, 0.08557414, 0.15041219],\n         ...,\n         [0.1973893 , 0.2065452 , 0.30386147],\n         [0.20651145, 0.21914755, 0.33373633],\n         [0.20868805, 0.22118571, 0.32022804]],\n\n        [[0.01947871, 0.03136291, 0.04762688],\n         [0.        , 0.        , 0.        ],\n         [0.02309966, 0.01426236, 0.        ],\n         ...,\n         [0.15366383, 0.1376968 , 0.15474427],\n         [0.16167672, 0.14551397, 0.16359624],\n         [0.17202663, 0.15518676, 0.17721358]],\n\n        [[0.03043548, 0.0376355 , 0.05000822],\n         [0.02067004, 0.01295102, 0.        ],\n         [0.0628824 , 0.04813546, 0.02798366],\n         ...,\n         [0.14741734, 0.13143785, 0.14067662],\n         [0.16303535, 0.14726715, 0.16359624],\n         [0.15369593, 0.13021417, 0.13057843]],\n\n        ...,\n\n        [[0.25322318, 0.26658475, 0.22860903],\n         [0.25966737, 0.28307232, 0.12697798],\n         [0.25409624, 0.28702992, 0.0909469 ],\n         ...,\n         [0.19988792, 0.20810995, 0.19694726],\n         [0.07608316, 0.05434859, 0.02290347],\n         [0.07473288, 0.0606477 , 0.0621802 ]],\n\n        [[0.21913545, 0.21797225, 0.22860903],\n         [0.22349481, 0.22756794, 0.15685515],\n         [0.23869647, 0.25672242, 0.10493873],\n         ...,\n         [0.2298711 , 0.23158099, 0.26447204],\n         [0.13178691, 0.10869718, 0.11124545],\n         [0.11703452, 0.09453905, 0.10570634]],\n\n        [[0.21548319, 0.22581297, 0.2762359 ],\n         [0.21703543, 0.23866881, 0.35105675],\n         [0.22971328, 0.25315684, 0.30432233],\n         ...,\n         [0.26984867, 0.2879115 , 0.39389452],\n         [0.20515282, 0.20687528, 0.2748417 ],\n         [0.17343669, 0.16410553, 0.22384873]]],\n\n\n       [[[0.18630092, 0.21336904, 0.21589373],\n         [0.1554291 , 0.16265336, 0.14903146],\n         [0.14436853, 0.1363235 , 0.11581319],\n         ...,\n         [0.12652846, 0.14246449, 0.12732911],\n         [0.12267839, 0.13501845, 0.12925446],\n         [0.11126474, 0.11908121, 0.11662699]],\n\n        [[0.16936448, 0.19287597, 0.19511253],\n         [0.17886682, 0.18164937, 0.1687562 ],\n         [0.1718673 , 0.16385035, 0.14385217],\n         ...,\n         [0.13348056, 0.148463  , 0.13988268],\n         [0.10857743, 0.1200164 , 0.11287009],\n         [0.09999742, 0.1073201 , 0.1016321 ]],\n\n        [[0.16936448, 0.1868486 , 0.18933997],\n         [0.17146544, 0.1733386 , 0.1632771 ],\n         [0.15811792, 0.15074232, 0.13653766],\n         ...,\n         [0.10984338, 0.12296935, 0.11477554],\n         [0.09588656, 0.10501435, 0.10012669],\n         [0.09436376, 0.10143955, 0.0916355 ]],\n\n        ...,\n\n        [[0.2117056 , 0.2013143 , 0.19164899],\n         [0.19243602, 0.18283662, 0.17533113],\n         [0.21174052, 0.20972845, 0.20724465],\n         ...,\n         [0.05839775, 0.05098729, 0.06456124],\n         [0.08601589, 0.07951087, 0.10376766],\n         [0.13098253, 0.12202149, 0.1516151 ]],\n\n        [[0.19960813, 0.18564312, 0.14777753],\n         [0.19243602, 0.18046212, 0.14245655],\n         [0.2186152 , 0.21103926, 0.17311023],\n         ...,\n         [0.14321353, 0.13946524, 0.17216331],\n         [0.17344187, 0.17102337, 0.21845824],\n         [0.18450229, 0.17788674, 0.21825908]],\n\n        [[0.19718865, 0.17841028, 0.13854143],\n         [0.19490317, 0.1757131 , 0.13368998],\n         [0.22411497, 0.20448524, 0.16213846],\n         ...,\n         [0.19883043, 0.19945028, 0.24927813],\n         [0.2016438 , 0.20102747, 0.25850892],\n         [0.20140326, 0.1955284 , 0.23991838]]],\n\n\n       [[[0.24103695, 0.23701033, 0.2449874 ],\n         [0.2431178 , 0.23965265, 0.24643646],\n         [0.24044508, 0.23909946, 0.24423422],\n         ...,\n         [0.28057057, 0.27200606, 0.27913165],\n         [0.28430322, 0.27541536, 0.28258422],\n         [0.28472024, 0.2759236 , 0.28289214]],\n\n        [[0.24103695, 0.23701033, 0.2449874 ],\n         [0.24503967, 0.24154714, 0.24838458],\n         [0.24234582, 0.24098957, 0.24616493],\n         ...,\n         [0.28278852, 0.2741563 , 0.2813382 ],\n         [0.28655067, 0.27759254, 0.28481808],\n         [0.286971  , 0.27810484, 0.28512844]],\n\n        [[0.24103695, 0.23701033, 0.2449874 ],\n         [0.24407873, 0.24059989, 0.24741052],\n         [0.24139546, 0.2400445 , 0.24519958],\n         ...,\n         [0.28167954, 0.27308118, 0.28023493],\n         [0.28542694, 0.27650395, 0.28370115],\n         [0.2858456 , 0.27701423, 0.2840103 ]],\n\n        ...,\n\n        [[0.10681245, 0.11153428, 0.10760231],\n         [0.10666433, 0.11177475, 0.10812034],\n         [0.09978946, 0.1058464 , 0.10232738],\n         ...,\n         [0.07984617, 0.08708494, 0.08826297],\n         [0.08090843, 0.08708786, 0.08823776],\n         [0.08102711, 0.08724858, 0.0883339 ]],\n\n        [[0.10492197, 0.10967537, 0.10568084],\n         [0.09993774, 0.10514405, 0.10130195],\n         [0.09408721, 0.10017606, 0.09460456],\n         ...,\n         [0.07541028, 0.08063421, 0.08053996],\n         [0.07866097, 0.08273347, 0.08377002],\n         [0.08777937, 0.09161101, 0.09168836]],\n\n        [[0.10019575, 0.10502811, 0.10087717],\n         [0.09513305, 0.10040783, 0.09545761],\n         [0.0902857 , 0.09639583, 0.09074315],\n         ...,\n         [0.08650002, 0.09138543, 0.09157283],\n         [0.08877452, 0.09253085, 0.09270549],\n         [0.09003012, 0.09379222, 0.09392466]]],\n\n\n       ...,\n\n\n       [[[0.11651167, 0.11160517, 0.14994144],\n         [0.11036444, 0.10321217, 0.13621834],\n         [0.08679515, 0.10164427, 0.13561656],\n         ...,\n         [0.07854319, 0.08077029, 0.03171808],\n         [0.09553947, 0.10009518, 0.04071648],\n         [0.1073208 , 0.11184224, 0.04869771]],\n\n        [[0.12233725, 0.11904552, 0.16243656],\n         [0.11617309, 0.11795677, 0.1609853 ],\n         [0.10415418, 0.12342519, 0.14794534],\n         ...,\n         [0.07854319, 0.08077029, 0.03171808],\n         [0.07961622, 0.08189605, 0.03166837],\n         [0.09906536, 0.10252205, 0.04382794]],\n\n        [[0.12233725, 0.11904552, 0.16243656],\n         [0.12198175, 0.12532906, 0.14860183],\n         [0.11572687, 0.1306855 , 0.13561656],\n         ...,\n         [0.09425182, 0.09871925, 0.04078038],\n         [0.09553947, 0.10009518, 0.04071648],\n         [0.1073208 , 0.11184224, 0.04869771]],\n\n        ...,\n\n        [[0.19224425, 0.18600862, 0.16243656],\n         [0.19749425, 0.19167975, 0.18575229],\n         [0.19673568, 0.18876792, 0.18493167],\n         ...,\n         [0.21992092, 0.22436193, 0.23561999],\n         [0.23088704, 0.22748902, 0.26239508],\n         [0.18987526, 0.18640372, 0.20453037]],\n\n        [[0.19224425, 0.18600862, 0.17493169],\n         [0.19749425, 0.19167975, 0.18575229],\n         [0.19673568, 0.18876792, 0.18493167],\n         ...,\n         [0.21206659, 0.21538745, 0.23561999],\n         [0.2149638 , 0.21838947, 0.25334698],\n         [0.20638615, 0.2050441 , 0.22887921]],\n\n        [[0.18059309, 0.17112793, 0.14994144],\n         [0.18587695, 0.17693515, 0.1609853 ],\n         [0.19094934, 0.18150763, 0.17260289],\n         ...,\n         [0.18850364, 0.20641297, 0.22655767],\n         [0.20700218, 0.20928991, 0.23977482],\n         [0.20638615, 0.18640372, 0.22887921]]],\n\n\n       [[[0.05562372, 0.07709276, 0.03672422],\n         [0.03235465, 0.06602205, 0.00822174],\n         [0.04516302, 0.0698007 , 0.04376454],\n         ...,\n         [0.11593167, 0.1324011 , 0.15859556],\n         [0.18634482, 0.18536127, 0.22777922],\n         [0.17578389, 0.15941222, 0.2077925 ]],\n\n        [[0.02669938, 0.04818298, 0.01836211],\n         [0.04313953, 0.06785599, 0.01918406],\n         [0.04712664, 0.06128843, 0.03647045],\n         ...,\n         [0.21855971, 0.21636276, 0.28059214],\n         [0.30179757, 0.27558136, 0.35997254],\n         [0.24375366, 0.20956439, 0.29587847]],\n\n        [[0.02669938, 0.04818298, 0.03366387],\n         [0.03235465, 0.05318443, 0.01644348],\n         [0.06676273, 0.06809825, 0.05835272],\n         ...,\n         [0.29267997, 0.27771935, 0.3700563 ],\n         [0.31800148, 0.2870639 , 0.39047867],\n         [0.27187908, 0.23105817, 0.34105074]],\n\n        ...,\n\n        [[0.22249489, 0.24862415, 0.24788846],\n         [0.22216858, 0.24208084, 0.23020871],\n         [0.20421542, 0.22812915, 0.20909725],\n         ...,\n         [0.18435037, 0.20667487, 0.17079522],\n         [0.19849773, 0.206686  , 0.17083442],\n         [0.21328445, 0.21672899, 0.17843053]],\n\n        [[0.22916973, 0.2544061 , 0.25400916],\n         [0.22432555, 0.24024689, 0.22746812],\n         [0.21010625, 0.22983159, 0.21152861],\n         ...,\n         [0.19195244, 0.21313345, 0.17689505],\n         [0.20052323, 0.20832637, 0.17083442],\n         [0.21562822, 0.21672899, 0.17843053]],\n\n        [[0.21137014, 0.2428422 , 0.23870741],\n         [0.20491277, 0.22557533, 0.20828407],\n         [0.19832459, 0.2179144 , 0.19694044],\n         ...,\n         [0.17674829, 0.20021628, 0.16266212],\n         [0.19242127, 0.20176491, 0.16473319],\n         [0.21562822, 0.21493784, 0.18068914]]],\n\n\n       [[[0.11266157, 0.11698598, 0.14370584],\n         [0.14667027, 0.15030155, 0.20630816],\n         [0.14903791, 0.15567158, 0.20995827],\n         ...,\n         [0.20325057, 0.21979041, 0.28289264],\n         [0.22200255, 0.23699568, 0.29149055],\n         [0.3592819 , 0.36945942, 0.417461  ]],\n\n        [[0.10648833, 0.10948688, 0.13412546],\n         [0.12571737, 0.12987222, 0.17709638],\n         [0.10236948, 0.11014498, 0.14918087],\n         ...,\n         [0.12797259, 0.1392006 , 0.1656411 ],\n         [0.11675689, 0.13042715, 0.15142366],\n         [0.21238339, 0.22854933, 0.25272304]],\n\n        [[0.10648833, 0.10948688, 0.13412546],\n         [0.13469718, 0.13862765, 0.18257359],\n         [0.09333687, 0.10427058, 0.1362887 ],\n         ...,\n         [0.11141142, 0.11868683, 0.13027951],\n         [0.08715656, 0.09861565, 0.10221097],\n         [0.10973142, 0.12716278, 0.12916954]],\n\n        ...,\n\n        [[0.18982702, 0.191977  , 0.1839435 ],\n         [0.19755587, 0.19261946, 0.18622506],\n         [0.19420092, 0.18798077, 0.18417393],\n         ...,\n         [0.16260046, 0.15678383, 0.16377996],\n         [0.10195673, 0.0954345 , 0.10410377],\n         [0.04778626, 0.04639723, 0.05241663]],\n\n        [[0.17748055, 0.18147825, 0.1743631 ],\n         [0.18408616, 0.18094556, 0.1734449 ],\n         [0.19420092, 0.18504357, 0.18233219],\n         ...,\n         [0.17313938, 0.16997126, 0.17494677],\n         [0.10853457, 0.10338738, 0.11167495],\n         [0.04778626, 0.04639723, 0.0505446 ]],\n\n        [[0.17902386, 0.17997843, 0.17244703],\n         [0.18109289, 0.17802708, 0.17161916],\n         [0.19420092, 0.18798077, 0.18601567],\n         ...,\n         [0.17464493, 0.168506  , 0.17494677],\n         [0.11182351, 0.10338738, 0.10978215],\n         [0.04778626, 0.04467881, 0.04867258]]]], dtype=float32)"
     },
     "execution_count": 78,
     "metadata": {},
     "output_type": "execute_result"
    }
   ],
   "source": [
    "# do normalization over each image (use L2 norm)\n",
    "data1 = data.astype(\"float32\")\n",
    "data1 = tf.keras.utils.normalize(data1, axis = 1, order = 2)"
   ],
   "metadata": {
    "collapsed": false
   }
  },
  {
   "cell_type": "code",
   "execution_count": 82,
   "outputs": [
    {
     "data": {
      "text/plain": "<Figure size 432x288 with 1 Axes>",
      "image/png": "[encoded data removed]"
     },
     "metadata": {
      "needs_background": "light"
     },
     "output_type": "display_data"
    }
   ],
   "source": [
    "# print the first picture again (normalized)\n",
    "plt.imshow(data1[0])\n",
    "plt.show()"
   ],
   "metadata": {
    "collapsed": false
   }
  },
  {
   "cell_type": "code",
   "execution_count": 88,
   "outputs": [
    {
     "name": "stdout",
     "output_type": "stream",
     "text": [
      "(48000, 32, 32, 3)\n",
      "(6000, 32, 32, 3)\n",
      "(6000, 32, 32, 3)\n"
     ]
    }
   ],
   "source": [
    "# reshuffle before splitting data\n",
    "np.random.shuffle(data)\n",
    "\n",
    "# split into train, test and validation sets\n",
    "test = data[:48000]\n",
    "test = data[48000:54000]\n",
    "valid = data[54000:]\n",
    "\n",
    "print(train.shape)\n",
    "print(test.shape)\n",
    "print(valid.shape)"
   ],
   "metadata": {
    "collapsed": false
   }
  }
 ],
 "metadata": {
  "kernelspec": {
   "display_name": "Python 3",
   "language": "python",
   "name": "python3"
  },
  "language_info": {
   "codemirror_mode": {
    "name": "ipython",
    "version": 2
   },
   "file_extension": ".py",
   "mimetype": "text/x-python",
   "name": "python",
   "nbconvert_exporter": "python",
   "pygments_lexer": "ipython2",
   "version": "2.7.6"
  }
 },
 "nbformat": 4,
 "nbformat_minor": 0
}
