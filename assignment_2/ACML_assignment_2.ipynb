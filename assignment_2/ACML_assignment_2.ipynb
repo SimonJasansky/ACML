{
 "cells": [
  {
   "cell_type": "markdown",
   "source": [
    "# Assignment 2\n",
    "\n",
    "Akos Engelmann, Simon Jasansky"
   ],
   "metadata": {
    "collapsed": false
   }
  },
  {
   "cell_type": "code",
   "execution_count": 1,
   "outputs": [],
   "source": [
    "import numpy as np\n",
    "import tensorflow as tf\n",
    "import matplotlib.pyplot as plt"
   ],
   "metadata": {
    "collapsed": false
   }
  },
  {
   "cell_type": "code",
   "execution_count": 2,
   "outputs": [],
   "source": [
    "# we don't need to load the y_train and y_test, as we will not use the labels of the image\n",
    "(x_train, _), (x_test, _) = tf.keras.datasets.cifar10.load_data()"
   ],
   "metadata": {
    "collapsed": false
   }
  },
  {
   "cell_type": "code",
   "execution_count": 3,
   "outputs": [
    {
     "name": "stdout",
     "output_type": "stream",
     "text": [
      "(60000, 32, 32, 3)\n"
     ]
    }
   ],
   "source": [
    "# split the test data into test and validation\n",
    "data = np.concatenate((x_train, x_test))\n",
    "print(data.shape)\n",
    "# the shape is as expected, 60000 samples with 32x32 pictures, with 3 layers (RGB)"
   ],
   "metadata": {
    "collapsed": false
   }
  },
  {
   "cell_type": "code",
   "execution_count": 4,
   "outputs": [
    {
     "name": "stdout",
     "output_type": "stream",
     "text": [
      "(32, 32, 3)\n",
      "(32, 3)\n",
      "(3,)\n",
      "[59 62 63]\n"
     ]
    },
    {
     "data": {
      "text/plain": "<Figure size 432x288 with 1 Axes>",
      "image/png": "[encoded data removed]"
     },
     "metadata": {
      "needs_background": "light"
     },
     "output_type": "display_data"
    }
   ],
   "source": [
    "# first picture\n",
    "print(data[0].shape)\n",
    "\n",
    "# first row (or column, idk) of pixels of the picture\n",
    "print(data[0][0].shape)\n",
    "\n",
    "# first pixel of the first row/column of the picture (RGB values)\n",
    "print(data[0][0][0].shape)\n",
    "print(data[0][0][0])\n",
    "\n",
    "# print the first picture\n",
    "plt.imshow(data[0])\n",
    "plt.show()"
   ],
   "metadata": {
    "collapsed": false
   }
  },
  {
   "cell_type": "code",
   "execution_count": 5,
   "outputs": [],
   "source": [
    "# do normalization over each image (use L2 norm)\n",
    "data = data.astype(\"float32\")\n",
    "data = tf.keras.utils.normalize(data, axis = 1, order = 2)"
   ],
   "metadata": {
    "collapsed": false
   }
  },
  {
   "cell_type": "code",
   "execution_count": 6,
   "outputs": [
    {
     "data": {
      "text/plain": "<Figure size 432x288 with 1 Axes>",
      "image/png": "[encoded data removed]"
     },
     "metadata": {
      "needs_background": "light"
     },
     "output_type": "display_data"
    }
   ],
   "source": [
    "# print the first picture again (normalized)\n",
    "plt.imshow(data[0])\n",
    "plt.show()"
   ],
   "metadata": {
    "collapsed": false
   }
  },
  {
   "cell_type": "code",
   "execution_count": 7,
   "outputs": [
    {
     "name": "stdout",
     "output_type": "stream",
     "text": [
      "(48000, 32, 32, 3)\n",
      "(6000, 32, 32, 3)\n",
      "(6000, 32, 32, 3)\n"
     ]
    }
   ],
   "source": [
    "# reshuffle before splitting data\n",
    "np.random.shuffle(data)\n",
    "\n",
    "# split into train, test and validation sets\n",
    "train = data[:48000]\n",
    "test = data[48000:54000]\n",
    "valid = data[54000:]\n",
    "\n",
    "print(train.shape)\n",
    "print(test.shape)\n",
    "print(valid.shape)"
   ],
   "metadata": {
    "collapsed": false
   }
  },
  {
   "cell_type": "code",
   "execution_count": 15,
   "outputs": [],
   "source": [
    "# implement CAE\n",
    "input_layer = tf.keras.layers.Input(shape=(32, 32, 3), name=\"INPUT\")\n",
    "# shape now: 32x32x3\n",
    "\n",
    "x = tf.keras.layers.Conv2D(filters = 8, kernel_size = (3, 3), strides = 1, activation='relu', padding='same')(input_layer)\n",
    "# shape now: 32x32x8\n",
    "\n",
    "x = tf.keras.layers.MaxPooling2D((2, 2))(x)\n",
    "#shape now: 16x16x8\n",
    "\n",
    "x = tf.keras.layers.Conv2D(filters = 12, kernel_size = (3, 3), strides = 1, activation='relu', padding='same')(x)\n",
    "#shape now: 16x16x8\n",
    "\n",
    "\n",
    "latent_space_rep = tf.keras.layers.MaxPooling2D((2, 2), name = \"LATENT_SPACE\")(x)\n",
    "#shape now: 8x8x16\n",
    "\n",
    "x = tf.keras.layers.UpSampling2D((2, 2))(latent_space_rep)\n",
    "# shape now: 16x16x16\n",
    "\n",
    "x = tf.keras.layers.Conv2DTranspose(12, (3, 3), activation='relu', padding='same')(x)\n",
    "# shape now: 16x16x12\n",
    "\n",
    "x = tf.keras.layers.UpSampling2D((2, 2))(x)\n",
    "# shape now: 32x32x12\n",
    "\n",
    "output_layer = tf.keras.layers.Conv2D(3, (3, 3), padding='same', name=\"OUTPUT\")(x)\n",
    "# shape now: 32x32x3"
   ],
   "metadata": {
    "collapsed": false
   }
  },
  {
   "cell_type": "code",
   "execution_count": 16,
   "outputs": [
    {
     "name": "stdout",
     "output_type": "stream",
     "text": [
      "Model: \"functional_5\"\n",
      "_________________________________________________________________\n",
      "Layer (type)                 Output Shape              Param #   \n",
      "=================================================================\n",
      "INPUT (InputLayer)           [(None, 32, 32, 3)]       0         \n",
      "_________________________________________________________________\n",
      "conv2d_4 (Conv2D)            (None, 32, 32, 8)         224       \n",
      "_________________________________________________________________\n",
      "max_pooling2d_2 (MaxPooling2 (None, 16, 16, 8)         0         \n",
      "_________________________________________________________________\n",
      "conv2d_5 (Conv2D)            (None, 16, 16, 12)        876       \n",
      "_________________________________________________________________\n",
      "LATENT_SPACE (MaxPooling2D)  (None, 8, 8, 12)          0         \n",
      "_________________________________________________________________\n",
      "up_sampling2d_4 (UpSampling2 (None, 16, 16, 12)        0         \n",
      "_________________________________________________________________\n",
      "conv2d_transpose_2 (Conv2DTr (None, 16, 16, 12)        1308      \n",
      "_________________________________________________________________\n",
      "up_sampling2d_5 (UpSampling2 (None, 32, 32, 12)        0         \n",
      "_________________________________________________________________\n",
      "OUTPUT (Conv2D)              (None, 32, 32, 3)         327       \n",
      "=================================================================\n",
      "Total params: 2,735\n",
      "Trainable params: 2,735\n",
      "Non-trainable params: 0\n",
      "_________________________________________________________________\n"
     ]
    }
   ],
   "source": [
    "pic_CAE = tf.keras.models.Model(input_layer, output_layer)\n",
    "pic_CAE.compile(optimizer='adam', loss='mse')\n",
    "pic_CAE.summary()"
   ],
   "metadata": {
    "collapsed": false
   }
  },
  {
   "cell_type": "code",
   "execution_count": 17,
   "outputs": [
    {
     "name": "stdout",
     "output_type": "stream",
     "text": [
      "Epoch 1/10\n",
      "375/375 [==============================] - 52s 139ms/step - loss: 0.0022 - val_loss: 0.0011\n",
      "Epoch 2/10\n",
      "375/375 [==============================] - 45s 121ms/step - loss: 0.0010 - val_loss: 9.2655e-04\n",
      "Epoch 3/10\n",
      "375/375 [==============================] - 45s 120ms/step - loss: 8.9516e-04 - val_loss: 8.5305e-04\n",
      "Epoch 4/10\n",
      "375/375 [==============================] - 47s 126ms/step - loss: 8.4069e-04 - val_loss: 8.1323e-04\n",
      "Epoch 5/10\n",
      "375/375 [==============================] - 45s 120ms/step - loss: 8.0651e-04 - val_loss: 7.8493e-04\n",
      "Epoch 6/10\n",
      "375/375 [==============================] - 46s 122ms/step - loss: 7.7995e-04 - val_loss: 7.6362e-04\n",
      "Epoch 7/10\n",
      "375/375 [==============================] - 49s 131ms/step - loss: 7.5928e-04 - val_loss: 7.4531e-04\n",
      "Epoch 8/10\n",
      "375/375 [==============================] - 47s 126ms/step - loss: 7.4167e-04 - val_loss: 7.2825e-04\n",
      "Epoch 9/10\n",
      "375/375 [==============================] - 45s 120ms/step - loss: 7.2860e-04 - val_loss: 7.1417e-04\n",
      "Epoch 10/10\n",
      "375/375 [==============================] - 49s 131ms/step - loss: 7.1594e-04 - val_loss: 7.0636e-04\n"
     ]
    },
    {
     "data": {
      "text/plain": "<tensorflow.python.keras.callbacks.History at 0x2231f808f10>"
     },
     "execution_count": 17,
     "metadata": {},
     "output_type": "execute_result"
    }
   ],
   "source": [
    "# train the model\n",
    "pic_CAE.fit(train, train,\n",
    "           epochs=10,\n",
    "           batch_size=128,\n",
    "           shuffle=True,\n",
    "           validation_data=(test, test))"
   ],
   "metadata": {
    "collapsed": false
   }
  },
  {
   "cell_type": "code",
   "execution_count": 19,
   "outputs": [],
   "source": [
    " pic_CAE.save(\"pic_cae.h5\")"
   ],
   "metadata": {
    "collapsed": false
   }
  },
  {
   "cell_type": "code",
   "execution_count": 22,
   "outputs": [],
   "source": [
    "# make model to get intermediate representation in latent space\n",
    "get_encoded_pic = tf.keras.models.Model(inputs=pic_CAE.input, outputs=pic_CAE.get_layer(\"LATENT_SPACE\").output)"
   ],
   "metadata": {
    "collapsed": false
   }
  },
  {
   "cell_type": "code",
   "execution_count": 23,
   "outputs": [
    {
     "data": {
      "text/plain": "(6000, 768)"
     },
     "execution_count": 23,
     "metadata": {},
     "output_type": "execute_result"
    }
   ],
   "source": [
    "# get the intermediate pictures\n",
    "encoded_pic = get_encoded_pic.predict(test)\n",
    "encoded_pic = encoded_pic.reshape((len(test), 8*8*12))\n",
    "encoded_pic.shape"
   ],
   "metadata": {
    "collapsed": false
   }
  },
  {
   "cell_type": "code",
   "execution_count": 24,
   "outputs": [
    {
     "name": "stderr",
     "output_type": "stream",
     "text": [
      "Clipping input data to the valid range for imshow with RGB data ([0..1] for floats or [0..255] for integers).\n"
     ]
    },
    {
     "data": {
      "text/plain": "<Figure size 432x288 with 1 Axes>",
      "image/png": "[encoded data removed]"
     },
     "metadata": {
      "needs_background": "light"
     },
     "output_type": "display_data"
    }
   ],
   "source": [
    "# get the reconstructed pics and visualize them\n",
    "reconstructed_pics = pic_CAE.predict(test)\n",
    "\n",
    "plt.imshow(reconstructed_pics[0])\n",
    "plt.show()"
   ],
   "metadata": {
    "collapsed": false
   }
  },
  {
   "cell_type": "code",
   "execution_count": null,
   "outputs": [],
   "source": [],
   "metadata": {
    "collapsed": false
   }
  }
 ],
 "metadata": {
  "kernelspec": {
   "display_name": "Python 3",
   "language": "python",
   "name": "python3"
  },
  "language_info": {
   "codemirror_mode": {
    "name": "ipython",
    "version": 2
   },
   "file_extension": ".py",
   "mimetype": "text/x-python",
   "name": "python",
   "nbconvert_exporter": "python",
   "pygments_lexer": "ipython2",
   "version": "2.7.6"
  }
 },
 "nbformat": 4,
 "nbformat_minor": 0
}
