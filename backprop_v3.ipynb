{
 "cells": [
  {
   "cell_type": "markdown",
   "metadata": {},
   "source": [
    "# ACML Assignment 1"
   ]
  },
  {
   "cell_type": "code",
   "execution_count": 23,
   "metadata": {},
   "outputs": [],
   "source": [
    "import numpy as np"
   ]
  },
  {
   "cell_type": "markdown",
   "metadata": {},
   "source": [
    "### Create the training data "
   ]
  },
  {
   "cell_type": "code",
   "execution_count": 24,
   "metadata": {},
   "outputs": [],
   "source": [
    "inputs = []\n",
    "\n",
    "for i in range(8):\n",
    "    input = np.zeros(((8+1),1)) # +1 is the bias\n",
    "    input[0] = 1 # bias at the beginning of the input\n",
    "    input[i+1] = 1\n",
    "    inputs.append(input)"
   ]
  },
  {
   "cell_type": "markdown",
   "metadata": {},
   "source": [
    "### Define functions"
   ]
  },
  {
   "cell_type": "code",
   "execution_count": 25,
   "metadata": {},
   "outputs": [],
   "source": [
    "def sigmoid(x):\n",
    "    return (1/(1 + np.exp(-x)))\n",
    "\n",
    "def softmax(x):\n",
    "    e = np.exp(x)\n",
    "    return(e/e.sum())\n",
    "\n",
    "def argmax(x): \n",
    "    a2_index = np.argmax(x)\n",
    "    a2 = np.zeros(8)\n",
    "    a2[a2_index] = 1\n",
    "    return(a2)\n",
    "\n",
    "def forward_prop(a0, W1, W2):\n",
    "    a1 = sigmoid(np.dot(W1, a0)) \n",
    "    a1 = np.insert(a1, 0, 1) # insert bias to make it (4x1)\n",
    "    a2 = sigmoid(np.dot(W2, a1))\n",
    "    return(a1, a2) # returns (4x1), (8x1)\n",
    "\n",
    "def back_prop(a0, a1, a2, W2):\n",
    "    \n",
    "    cost_MSE = np.sum(np.square(a2 - a0))\n",
    "\n",
    "    # compute the deltas for layer 2 and 1\n",
    "    delta2 = (a2 - a0) # deltas in layer 2 (output)\n",
    "\n",
    "    delta1 = a1 * (np.ones(4) - a1) * np.dot(W2.T, delta2) # deltas in layer 1 (hidden)\n",
    "    #         (4x1) * ((4x1) - (4x1))  *  ((4x8) . (8x1))   = (4x1)\n",
    "    #                                          (4x1)\n",
    "\n",
    "    # compute the partial derivatives for weigthts 2\n",
    "    deriv_W_2 = np.dot(delta2.reshape(8,1), a1.reshape(1,4))\n",
    "\n",
    "    # compute the partial derivatives for weights 1\n",
    "        ## insert bias to a0\n",
    "    a0_with_bias = np.insert(a0, 0, 1)\n",
    "    \n",
    "        ## delete bias for delta1\n",
    "    delta1 = np.delete(delta1, 0)\n",
    "    deriv_W_1 = np.dot(delta1.reshape(3, 1), a0_with_bias.reshape(1, 9))\n",
    "    return(deriv_W_1, deriv_W_2, cost_MSE)\n",
    "\n",
    "\n",
    "def train(inputs, W1, W2, batch_size, epochs, lr, weight_decay):\n",
    "    loss = list()\n",
    "    # loop over number of iterations\n",
    "    for _ in range(epochs):\n",
    "\n",
    "        # loop over batch size\n",
    "        deriv1_outer = np.zeros((3,9))\n",
    "        deriv2_outer = np.zeros((8,4))\n",
    "        for _ in range(batch_size): \n",
    "            \n",
    "            # select a random training sample\n",
    "            train_sample = inputs[np.random.randint(0, 8)]\n",
    "            \n",
    "            # perform forward propagation\n",
    "            ta1, ta2 = forward_prop(train_sample, W1, W2)\n",
    "            \n",
    "            # perform backward propagation\n",
    "            y = np.delete(train_sample, 0)\n",
    "            deriv1, deriv2, cost = back_prop(y, ta1, ta2, W2)\n",
    "            \n",
    "            # add the partial derivatives to the batch derivatives\n",
    "            deriv1_outer = deriv1_outer + deriv1\n",
    "            deriv2_outer = deriv2_outer + deriv2\n",
    "            loss.append(cost)\n",
    "\n",
    "        W1_new = W1 - (lr * ((1/batch_size) * deriv1_outer + weight_decay * W1))\n",
    "        W2_new = W2 - (lr * ((1/batch_size) * deriv2_outer + weight_decay * W2))\n",
    "        W1_new[:,0] = W1[:,0] - lr * (1/batch_size) * deriv1_outer[:,0]\n",
    "        W2_new[:,0] = W2[:,0] - lr * (1/batch_size) * deriv2_outer[:,0]\n",
    "        W1 = W1_new\n",
    "        W2 = W2_new\n",
    "    return(W1, W2, loss)"
   ]
  },
  {
   "cell_type": "markdown",
   "metadata": {},
   "source": [
    "### Parameters and training of model"
   ]
  },
  {
   "cell_type": "code",
   "execution_count": 26,
   "metadata": {},
   "outputs": [],
   "source": [
    "# Initialize Weights\n",
    "W1 = np.random.normal(0, 0.01, 3*9).reshape(3, 9) # 3x9 matrix\n",
    "W2 = np.random.normal(0, 0.01, 8*4).reshape(8, 4) # 8x4 matrix\n",
    "\n",
    "# Train the model\n",
    "W1, W2, loss = train(\n",
    "    inputs = inputs,\n",
    "    W1 = W1,\n",
    "    W2 = W2, \n",
    "    batch_size = 8,\n",
    "    epochs = 20000, \n",
    "    lr = 0.5,\n",
    "    weight_decay = 0.0001)\n"
   ]
  },
  {
   "cell_type": "markdown",
   "metadata": {},
   "source": [
    "### Training the model with several learning rates"
   ]
  },
  {
   "cell_type": "code",
   "execution_count": 27,
   "metadata": {},
   "outputs": [],
   "source": [
    "lr_list = [0.01, 0.1, 0.5, 0.9]\n",
    "losses = list()\n",
    "\n",
    "for lr in lr_list:\n",
    "    W1 = np.random.normal(0, 0.01, 3*9).reshape(3, 9) # 3x9 matrix\n",
    "    W2 = np.random.normal(0, 0.01, 8*4).reshape(8, 4) # 8x4 matrix\n",
    "\n",
    "    _, _, loss = train(\n",
    "        inputs = inputs,\n",
    "        W1 = W1,\n",
    "        W2 = W2, \n",
    "        batch_size = 8,\n",
    "        epochs = 20000, \n",
    "        lr = lr,\n",
    "        weight_decay = 0.0001\n",
    "    )\n",
    "\n",
    "    losses.append(loss)"
   ]
  },
  {
   "cell_type": "markdown",
   "metadata": {},
   "source": [
    "### Plotting the model"
   ]
  },
  {
   "cell_type": "code",
   "execution_count": 36,
   "metadata": {},
   "outputs": [
    {
     "data": {
      "image/png": "[encoded data removed]",
      "text/plain": [
       "<Figure size 640x480 with 4 Axes>"
      ]
     },
     "metadata": {},
     "output_type": "display_data"
    }
   ],
   "source": [
    "import matplotlib.pyplot as plt\n",
    "\n",
    "figure, axis = plt.subplots(2, 2)\n",
    "\n",
    "axis[0, 0].plot((list(range(len(losses[0])))), losses[0])\n",
    "axis[0, 0].set_title(f\"Training with learning rate: {lr_list[0]}\")\n",
    "  \n",
    "axis[0, 1].plot((list(range(len(losses[1])))), losses[1], 'tab:orange')\n",
    "axis[0, 1].set_title(f\"Training with learning rate: {lr_list[1]}\")\n",
    "  \n",
    "axis[1, 0].plot((list(range(len(losses[2])))), losses[2], 'tab:green')\n",
    "axis[1, 0].set_title(f\"Training with learning rate: {lr_list[2]}\")\n",
    "  \n",
    "axis[1, 1].plot((list(range(len(losses[3])))), losses[3], 'tab:red')\n",
    "axis[1, 1].set_title(f\"Training with learning rate: {lr_list[3]}\")\n",
    "  \n",
    "for ax in axis.flat:\n",
    "    ax.set(xlabel='training steps', ylabel='MSE')\n",
    "\n",
    "for ax in axis.flat:\n",
    "    ax.label_outer()\n",
    "\n",
    "plt.show()"
   ]
  },
  {
   "cell_type": "markdown",
   "metadata": {},
   "source": [
    "### Prediction with the model"
   ]
  },
  {
   "cell_type": "code",
   "execution_count": 15,
   "metadata": {},
   "outputs": [
    {
     "name": "stdout",
     "output_type": "stream",
     "text": [
      "[1. 0. 0. 0. 0. 0. 0. 0.]\n",
      "[9.51785435e-01 3.15246582e-06 1.62624558e-02 8.62318393e-05\n",
      " 3.53712987e-09 1.20047556e-05 1.24117873e-02 3.16746734e-02]\n",
      "[1. 0. 0. 0. 0. 0. 0. 0.]\n",
      "[ True  True  True  True  True  True  True  True]\n"
     ]
    }
   ],
   "source": [
    "# select some input\n",
    "index = 0\n",
    "print(np.delete(inputs[index], 0).reshape(1,-1)[0])\n",
    "_, output = forward_prop(inputs[index], W1, W2)\n",
    "print(output)\n",
    "print(argmax(output))\n",
    "print((argmax(output) == np.delete(inputs[index], 0).reshape(1,-1)[0]))\n",
    "\n",
    "# indeed the model predicted well for this input"
   ]
  },
  {
   "cell_type": "code",
   "execution_count": null,
   "metadata": {},
   "outputs": [],
   "source": []
  }
 ],
 "metadata": {
  "kernelspec": {
   "display_name": "Python 3.9.12 64-bit",
   "language": "python",
   "name": "python3"
  },
  "language_info": {
   "codemirror_mode": {
    "name": "ipython",
    "version": 3
   },
   "file_extension": ".py",
   "mimetype": "text/x-python",
   "name": "python",
   "nbconvert_exporter": "python",
   "pygments_lexer": "ipython3",
   "version": "3.9.12"
  },
  "orig_nbformat": 4,
  "vscode": {
   "interpreter": {
    "hash": "397704579725e15f5c7cb49fe5f0341eb7531c82d19f2c29d197e8b64ab5776b"
   }
  }
 },
 "nbformat": 4,
 "nbformat_minor": 2
}
