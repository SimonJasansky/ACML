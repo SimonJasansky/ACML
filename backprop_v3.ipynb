{
 "cells": [
  {
   "cell_type": "markdown",
   "metadata": {},
   "source": [
    "# ACML Assignment 1"
   ]
  },
  {
   "cell_type": "code",
   "execution_count": 47,
   "metadata": {},
   "outputs": [],
   "source": [
    "import numpy as np"
   ]
  },
  {
   "cell_type": "markdown",
   "metadata": {},
   "source": [
    "### Create the training data "
   ]
  },
  {
   "cell_type": "code",
   "execution_count": 32,
   "metadata": {},
   "outputs": [],
   "source": [
    "inputs = []\n",
    "\n",
    "for i in range(8):\n",
    "    input = np.zeros(((8+1),1)) # +1 is the bias\n",
    "    input[0] = 1 # bias at the beginning of the input\n",
    "    input[i+1] = 1\n",
    "    inputs.append(input)"
   ]
  },
  {
   "cell_type": "markdown",
   "metadata": {},
   "source": [
    "### Define functions"
   ]
  },
  {
   "cell_type": "code",
   "execution_count": 33,
   "metadata": {},
   "outputs": [],
   "source": [
    "def sigmoid(x):\n",
    "    return (1/(1 + np.exp(-x)))\n",
    "\n",
    "def softmax(x):\n",
    "    e = np.exp(x)\n",
    "    return(e/e.sum())\n",
    "\n",
    "def argmax(x): \n",
    "    a2_index = np.argmax(x)\n",
    "    a2 = np.zeros(8)\n",
    "    a2[a2_index] = 1\n",
    "    return(a2)\n",
    "\n",
    "def forward_prop(a0, W1, W2):\n",
    "    a1 = sigmoid(np.dot(W1, a0)) \n",
    "    a1 = np.insert(a1, 0, 1) # insert bias to make it (4x1)\n",
    "    a2 = sigmoid(np.dot(W2, a1))\n",
    "    return(a1, a2) # returns (4x1), (8x1)\n",
    "\n",
    "def back_prop(a0, a1, a2, W2):\n",
    "    \n",
    "    cost_MSE = np.sum(np.square(a2 - a0))\n",
    "\n",
    "    # compute the deltas for layer 2 and 1\n",
    "    delta2 = (a2 - a0) # deltas in layer 2 (output)\n",
    "\n",
    "    delta1 = a1 * (np.ones(4) - a1) * np.dot(W2.T, delta2) # deltas in layer 1 (hidden)\n",
    "    #         (4x1) * ((4x1) - (4x1))  *  ((4x8) . (8x1))   = (4x1)\n",
    "    #                                          (4x1)\n",
    "\n",
    "    # compute the partial derivatives for weigthts 2\n",
    "    deriv_W_2 = np.dot(delta2.reshape(8,1), a1.reshape(1,4))\n",
    "\n",
    "    # compute the partial derivatives for weights 1\n",
    "        ## insert bias to a0\n",
    "    a0_with_bias = np.insert(a0, 0, 1)\n",
    "    \n",
    "        ## delete bias for delta1\n",
    "    delta1 = np.delete(delta1, 0)\n",
    "    deriv_W_1 = np.dot(delta1.reshape(3, 1), a0_with_bias.reshape(1, 9))\n",
    "    return(deriv_W_1, deriv_W_2, cost_MSE)\n",
    "\n",
    "\n",
    "def train(inputs, W1, W2, batch_size, epochs, lr, weight_decay):\n",
    "    loss = list()\n",
    "    # loop over number of iterations\n",
    "    for _ in range(epochs):\n",
    "\n",
    "        # loop over batch size\n",
    "        deriv1_outer = np.zeros((3,9))\n",
    "        deriv2_outer = np.zeros((8,4))\n",
    "        for _ in range(batch_size): \n",
    "            \n",
    "            # select a random training sample\n",
    "            train_sample = inputs[np.random.randint(0, 8)]\n",
    "            \n",
    "            # perform forward propagation\n",
    "            ta1, ta2 = forward_prop(train_sample, W1, W2)\n",
    "            \n",
    "            # perform backward propagation\n",
    "            y = np.delete(train_sample, 0)\n",
    "            deriv1, deriv2, cost = back_prop(y, ta1, ta2, W2)\n",
    "            \n",
    "            # add the partial derivatives to the batch derivatives\n",
    "            deriv1_outer = deriv1_outer + deriv1\n",
    "            deriv2_outer = deriv2_outer + deriv2\n",
    "            loss.append(cost)\n",
    "\n",
    "        W1_new = W1 - (lr * ((1/batch_size) * deriv1_outer + weight_decay * W1))\n",
    "        W2_new = W2 - (lr * ((1/batch_size) * deriv2_outer + weight_decay * W2))\n",
    "        W1_new[:,0] = W1[:,0] - lr * (1/batch_size) * deriv1_outer[:,0]\n",
    "        W2_new[:,0] = W2[:,0] - lr * (1/batch_size) * deriv2_outer[:,0]\n",
    "        W1 = W1_new\n",
    "        W2 = W2_new\n",
    "    return(W1, W2, loss)"
   ]
  },
  {
   "cell_type": "markdown",
   "metadata": {},
   "source": [
    "### Parameters and training of model"
   ]
  },
  {
   "cell_type": "code",
   "execution_count": 38,
   "metadata": {},
   "outputs": [
    {
     "name": "stdout",
     "output_type": "stream",
     "text": [
      "[[-0.41589785  2.22036062  5.645864   -3.89345498 -3.1574496   0.66560024\n",
      "   0.55249768 -4.50215038  2.34332337]\n",
      " [-0.09890842 -3.75090477  0.11544949  2.6450657  -4.13216537  4.65402212\n",
      "  -4.17982098  0.30452717  4.35423488]\n",
      " [-0.00703658  4.03086085 -1.21519864  3.57051043  1.1107787  -4.00224389\n",
      "  -4.38552573 -3.09417715  3.95550888]] [[-10.54991912   7.83403944  -9.27377256   8.03381741]\n",
      " [-14.95463713  19.69654228  -0.11712835  -6.84201913]\n",
      " [-10.35422144 -10.86187048   7.23632518   7.97223885]\n",
      " [  1.27822338 -11.73426242 -11.58522251   4.0400121 ]\n",
      " [-10.69206067   2.75700439  12.83258747 -11.70828755]\n",
      " [  2.49068592   2.22416847 -12.41633515 -10.91442166]\n",
      " [  3.13440205 -15.48318868   1.62987318 -10.20874508]\n",
      " [-20.5169826    8.83073383   9.27165675   7.56196891]]\n"
     ]
    }
   ],
   "source": [
    "# Initialize Weights\n",
    "W1 = np.random.normal(0, 0.01, 3*9).reshape(3, 9) # 3x9 matrix\n",
    "W2 = np.random.normal(0, 0.01, 8*4).reshape(8, 4) # 8x4 matrix\n",
    "\n",
    "# Train the model\n",
    "W1_final, W2_final, loss = train(\n",
    "    inputs = inputs,\n",
    "    W1 = W1,\n",
    "    W2 = W2, \n",
    "    batch_size = 8,\n",
    "    epochs = 20000, \n",
    "    lr = 0.5,\n",
    "    weight_decay = 0.0001)\n",
    "\n",
    "print(W1_final, W2_final)"
   ]
  },
  {
   "cell_type": "markdown",
   "metadata": {},
   "source": [
    "There is no obvious interpretation of the calculated weights."
   ]
  },
  {
   "cell_type": "markdown",
   "metadata": {},
   "source": [
    "### Training the model with several learning rates"
   ]
  },
  {
   "cell_type": "code",
   "execution_count": 35,
   "metadata": {},
   "outputs": [],
   "source": [
    "lr_list = [0.01, 0.1, 0.5, 0.9]\n",
    "losses = list()\n",
    "\n",
    "for lr in lr_list:\n",
    "    W1 = np.random.normal(0, 0.01, 3*9).reshape(3, 9) # 3x9 matrix\n",
    "    W2 = np.random.normal(0, 0.01, 8*4).reshape(8, 4) # 8x4 matrix\n",
    "\n",
    "    _, _, loss = train(\n",
    "        inputs = inputs,\n",
    "        W1 = W1,\n",
    "        W2 = W2, \n",
    "        batch_size = 8,\n",
    "        epochs = 20000, \n",
    "        lr = lr,\n",
    "        weight_decay = 0.0001\n",
    "    )\n",
    "\n",
    "    losses.append(loss)"
   ]
  },
  {
   "cell_type": "markdown",
   "metadata": {},
   "source": [
    "### Plotting the model"
   ]
  },
  {
   "cell_type": "code",
   "execution_count": 36,
   "metadata": {},
   "outputs": [
    {
     "data": {
      "image/png": "[encoded data removed]",
      "text/plain": [
       "<Figure size 432x288 with 4 Axes>"
      ]
     },
     "metadata": {
      "needs_background": "light"
     },
     "output_type": "display_data"
    }
   ],
   "source": [
    "import matplotlib.pyplot as plt\n",
    "\n",
    "figure, axis = plt.subplots(2, 2)\n",
    "figure.subplots_adjust(hspace=0.8, wspace=0.4)\n",
    "\n",
    "axis[0, 0].plot((list(range(len(losses[0])))), losses[0])\n",
    "axis[0, 0].set_title(f\"Training with learning rate: {lr_list[0]}\")\n",
    "\n",
    "axis[0, 1].plot((list(range(len(losses[1])))), losses[1], 'tab:orange')\n",
    "axis[0, 1].set_title(f\"Training with learning rate: {lr_list[1]}\")\n",
    "  \n",
    "axis[1, 0].plot((list(range(len(losses[2])))), losses[2], 'tab:green')\n",
    "axis[1, 0].set_title(f\"Training with learning rate: {lr_list[2]}\")\n",
    "  \n",
    "axis[1, 1].plot((list(range(len(losses[3])))), losses[3], 'tab:red')\n",
    "axis[1, 1].set_title(f\"Training with learning rate: {lr_list[3]}\")\n",
    "  \n",
    "for ax in axis.flat:\n",
    "    ax.set(xlabel='training steps', ylabel='MSE')\n",
    "\n",
    "plt.show()"
   ]
  },
  {
   "cell_type": "markdown",
   "metadata": {},
   "source": [
    "As can be seen in the four plots, the higher the learning rate, the faster the mean square error converges to 0 (i.e. it needs less training epochs). This can be observed due to the simplicity of the problem, allowing for high learning rates to still converge to an acceptable optimum, and not ending up at a local minimum. \n",
    "For a very low learning rate, such as 0.01, the mean square error stagnates at around 0.9, and only converges to 0 after more than 150000 training iterations. "
   ]
  },
  {
   "cell_type": "markdown",
   "metadata": {},
   "source": [
    "### Prediction with the model"
   ]
  },
  {
   "cell_type": "code",
   "execution_count": 51,
   "metadata": {},
   "outputs": [
    {
     "name": "stdout",
     "output_type": "stream",
     "text": [
      "For the input        [1. 0. 0. 0. 0. 0. 0. 0.]\n",
      "The model predicts:  [1. 0. 0. 0. 0. 0. 0. 0.]\n",
      "a1 is:  [0.85869132 0.02084016 0.98242979]\n",
      "a1 rounded is:  [1. 0. 1.]\n",
      "--------------------------------\n",
      "For the input        [0. 1. 0. 0. 0. 0. 0. 0.]\n",
      "The model predicts:  [0. 1. 0. 0. 0. 0. 0. 0.]\n",
      "a1 is:  [0.9946748  0.50413518 0.22754333]\n",
      "a1 rounded is:  [1. 1. 0.]\n",
      "--------------------------------\n",
      "For the input        [0. 0. 1. 0. 0. 0. 0. 0.]\n",
      "The model predicts:  [0. 0. 1. 0. 0. 0. 0. 0.]\n",
      "a1 is:  [0.01326395 0.92731493 0.97244083]\n",
      "a1 rounded is:  [0. 1. 1.]\n",
      "--------------------------------\n",
      "For the input        [0. 0. 0. 1. 0. 0. 0. 0.]\n",
      "The model predicts:  [0. 0. 0. 1. 0. 0. 0. 0.]\n",
      "a1 is:  [0.02729579 0.01432848 0.75096061]\n",
      "a1 rounded is:  [0. 0. 1.]\n",
      "--------------------------------\n",
      "For the input        [0. 0. 0. 0. 1. 0. 0. 0.]\n",
      "The model predicts:  [0. 0. 0. 0. 1. 0. 0. 0.]\n",
      "a1 is:  [0.56210325 0.98959607 0.01782302]\n",
      "a1 rounded is:  [1. 1. 0.]\n",
      "--------------------------------\n",
      "For the input        [0. 0. 0. 0. 0. 1. 0. 0.]\n",
      "The model predicts:  [0. 0. 0. 0. 0. 1. 0. 0.]\n",
      "a1 is:  [0.53409696 0.01367078 0.01221787]\n",
      "a1 rounded is:  [1. 0. 0.]\n",
      "--------------------------------\n",
      "For the input        [0. 0. 0. 0. 0. 0. 1. 0.]\n",
      "The model predicts:  [0. 0. 0. 0. 0. 0. 1. 0.]\n",
      "a1 is:  [0.00726029 0.55122434 0.04305722]\n",
      "a1 rounded is:  [0. 1. 0.]\n",
      "--------------------------------\n",
      "For the input        [0. 0. 0. 0. 0. 0. 0. 1.]\n",
      "The model predicts:  [0. 0. 0. 0. 0. 0. 0. 1.]\n",
      "a1 is:  [0.87296419 0.98601004 0.9810807 ]\n",
      "a1 rounded is:  [1. 1. 1.]\n",
      "--------------------------------\n"
     ]
    }
   ],
   "source": [
    "# select some input\n",
    "for index in range(8):\n",
    "    print(\"For the input       \", np.delete(inputs[index], 0).reshape(1,-1)[0])\n",
    "    a1, output = forward_prop(inputs[index], W1_final, W2_final)\n",
    "    print(\"The model predicts: \", argmax(output))\n",
    "    print(\"a1 is: \", np.delete(a1, 0))\n",
    "    print(\"a1 rounded is: \", np.delete(a1.round(), 0))\n",
    "    print(\"--------------------------------\")"
   ]
  },
  {
   "cell_type": "markdown",
   "metadata": {},
   "source": [
    "Here, the following parameters are used: \n",
    "batch_size = 8, epochs = 20000, lr = 0.5, weight_decay = 0.0001\n",
    "\n",
    "As shown above, the model predicts correctly for all possible input values. \n",
    "Further, the values for a1 (hidden layer) are also displayed here, once not rounded, and once rounded to 0 or 1. As can be observed from the rounded vectors for a1, almost every input vector gets encoded into a different binary value in the hidden layer. The only exception is the binary value of [1 1 0], which occurs twice. However, as shown in the unrounded values, these two cases are actually pretty well separated: \n",
    "[0.995 0.504 0.228] and \n",
    "[0.562 0.990 0.018]\n"
   ]
  }
 ],
 "metadata": {
  "kernelspec": {
   "display_name": "Python 3.9.12 ('base')",
   "language": "python",
   "name": "python3"
  },
  "language_info": {
   "codemirror_mode": {
    "name": "ipython",
    "version": 3
   },
   "file_extension": ".py",
   "mimetype": "text/x-python",
   "name": "python",
   "nbconvert_exporter": "python",
   "pygments_lexer": "ipython3",
   "version": "3.9.12"
  },
  "orig_nbformat": 4,
  "vscode": {
   "interpreter": {
    "hash": "6446a39cde994240cef0075e7ef74c15a2542a1b56d11796ba0d3da838f0e271"
   }
  }
 },
 "nbformat": 4,
 "nbformat_minor": 2
}
